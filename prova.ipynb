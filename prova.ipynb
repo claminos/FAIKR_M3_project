{
 "cells": [
  {
   "cell_type": "markdown",
   "id": "c20e37ba",
   "metadata": {},
   "source": [
    "## Sezione 1"
   ]
  },
  {
   "cell_type": "code",
   "execution_count": 1,
   "id": "3f6dd3ef",
   "metadata": {},
   "outputs": [
    {
     "name": "stdout",
     "output_type": "stream",
     "text": [
      "Ciao\n"
     ]
    }
   ],
   "source": [
    "print(\"Ciao\")"
   ]
  },
  {
   "cell_type": "markdown",
   "id": "31eb64f0",
   "metadata": {},
   "source": [
    "## Sezione 2"
   ]
  },
  {
   "cell_type": "code",
   "execution_count": 2,
   "id": "80dea85c",
   "metadata": {},
   "outputs": [
    {
     "name": "stdout",
     "output_type": "stream",
     "text": [
      "Sezione 2\n"
     ]
    }
   ],
   "source": [
    "print(\"Sezione 2\")"
   ]
  },
  {
   "cell_type": "code",
   "execution_count": null,
   "id": "c9a56dbf",
   "metadata": {},
   "outputs": [],
   "source": []
  }
 ],
 "metadata": {
  "kernelspec": {
   "display_name": "Python 3 (ipykernel)",
   "language": "python",
   "name": "python3"
  },
  "language_info": {
   "codemirror_mode": {
    "name": "ipython",
    "version": 3
   },
   "file_extension": ".py",
   "mimetype": "text/x-python",
   "name": "python",
   "nbconvert_exporter": "python",
   "pygments_lexer": "ipython3",
   "version": "3.9.6"
  }
 },
 "nbformat": 4,
 "nbformat_minor": 5
}
