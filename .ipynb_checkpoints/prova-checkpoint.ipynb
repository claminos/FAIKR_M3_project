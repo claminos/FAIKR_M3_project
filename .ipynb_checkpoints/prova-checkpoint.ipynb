{
 "cells": [
  {
   "cell_type": "markdown",
   "id": "1a171425",
   "metadata": {},
   "source": [
    "## Sezione 1"
   ]
  },
  {
   "cell_type": "code",
   "execution_count": 1,
   "id": "a4744be9",
   "metadata": {},
   "outputs": [
    {
     "name": "stdout",
     "output_type": "stream",
     "text": [
      "Ciao\n"
     ]
    }
   ],
   "source": [
    "print(\"Ciao\")"
   ]
  },
  {
   "cell_type": "code",
   "execution_count": 3,
   "id": "bf1808a0",
   "metadata": {},
   "outputs": [
    {
     "name": "stdout",
     "output_type": "stream",
     "text": [
      "Update della sezione 1\n"
     ]
    }
   ],
   "source": [
    "print(\"Update della sezione 1!!!!! :))))))\")"
   ]
  },
  {
   "cell_type": "markdown",
   "id": "7b86c140",
   "metadata": {},
   "source": [
    "## Sezione 2"
   ]
  },
  {
   "cell_type": "code",
   "execution_count": 2,
   "id": "7090de99",
   "metadata": {},
   "outputs": [
    {
     "name": "stdout",
     "output_type": "stream",
     "text": [
      "Sezione 2\n"
     ]
    }
   ],
   "source": [
    "print(\"Sezione 2\")"
   ]
  },
  {
   "cell_type": "code",
   "execution_count": null,
   "id": "2ba2b5a9",
   "metadata": {},
   "outputs": [],
   "source": [
    "print(\"seconda prova sezione 2\")"
   ]
  }
 ],
 "metadata": {
  "kernelspec": {
   "display_name": "Python 3 (ipykernel)",
   "language": "python",
   "name": "python3"
  },
  "language_info": {
   "codemirror_mode": {
    "name": "ipython",
    "version": 3
   },
   "file_extension": ".py",
   "mimetype": "text/x-python",
   "name": "python",
   "nbconvert_exporter": "python",
   "pygments_lexer": "ipython3",
   "version": "3.10.6"
  }
 },
 "nbformat": 4,
 "nbformat_minor": 5
}
