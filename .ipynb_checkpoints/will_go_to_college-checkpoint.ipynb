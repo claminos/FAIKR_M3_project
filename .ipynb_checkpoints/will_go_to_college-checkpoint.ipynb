{
 "cells": [
  {
   "cell_type": "markdown",
   "id": "fe6afdb8",
   "metadata": {},
   "source": [
    "# Indonesian student's potential to go to college"
   ]
  },
  {
   "cell_type": "markdown",
   "id": "f80f7a2b",
   "metadata": {},
   "source": [
    "The following notebook explores indonesian high school student data related to the decision to go to college.\n",
    "<br>\n",
    "<br>\n",
    "We used the [Go To College Dataset](https://www.kaggle.com/datasets/saddamazyazy/go-to-college-dataset) due to its high usability and high number of upvotes. This data is made based on high school condition in Indonesia and contains 11 columns. Here's some explanation for each column, provided by the dataset's creator:"
   ]
  },
  {
   "cell_type": "markdown",
   "id": "8342edf9",
   "metadata": {},
   "source": [
    "- `type_school`: the type of high school (student age 15-18) that the student attends. There are two types of high school here: vocational high school and academic high school. The basic difference between these two is theory versus practice. An academic school generally teaches theoretical knowledge and broad-based research skills, while a vocational school teaches hands-on, applied skills such as carpentry, auto mechanics and hairdressing. Students choose vocational high school usually because they want to quickly get job\n",
    "- `school_accreditation`: the quality of school. A is the best, followed by B and C\n",
    "- `gender`: student gender\n",
    "- `interest`: student interest to go to college\n",
    "- `residence`: the type of residence (urban or rural)\n",
    "- `parent_age`: parent age\n",
    "- `parent_salary`: parent salary per month in IDR/Indonesian Rupiah\n",
    "- `house_area`: parent house area in meter square (m$^2$)\n",
    "- `average_grades`: the average of high school grades in scale of 0-100\n",
    "- `parent_was_in_college`: parent's attendance to college\n",
    "- `will_go_to_college`: did the student actually go to college or not"
   ]
  },
  {
   "cell_type": "markdown",
   "id": "6edbb23f",
   "metadata": {},
   "source": [
    "Let's import the dataset and give a quick look to the data"
   ]
  },
  {
   "cell_type": "code",
   "execution_count": 26,
   "id": "6ed73a6c",
   "metadata": {
    "scrolled": true
   },
   "outputs": [
    {
     "data": {
      "text/html": [
       "<div>\n",
       "<style scoped>\n",
       "    .dataframe tbody tr th:only-of-type {\n",
       "        vertical-align: middle;\n",
       "    }\n",
       "\n",
       "    .dataframe tbody tr th {\n",
       "        vertical-align: top;\n",
       "    }\n",
       "\n",
       "    .dataframe thead th {\n",
       "        text-align: right;\n",
       "    }\n",
       "</style>\n",
       "<table border=\"1\" class=\"dataframe\">\n",
       "  <thead>\n",
       "    <tr style=\"text-align: right;\">\n",
       "      <th></th>\n",
       "      <th>type_school</th>\n",
       "      <th>school_accreditation</th>\n",
       "      <th>gender</th>\n",
       "      <th>interest</th>\n",
       "      <th>residence</th>\n",
       "      <th>parent_age</th>\n",
       "      <th>parent_salary</th>\n",
       "      <th>house_area</th>\n",
       "      <th>average_grades</th>\n",
       "      <th>parent_was_in_college</th>\n",
       "      <th>will_go_to_college</th>\n",
       "    </tr>\n",
       "  </thead>\n",
       "  <tbody>\n",
       "    <tr>\n",
       "      <th>0</th>\n",
       "      <td>Academic</td>\n",
       "      <td>A</td>\n",
       "      <td>Male</td>\n",
       "      <td>Less Interested</td>\n",
       "      <td>Urban</td>\n",
       "      <td>56</td>\n",
       "      <td>6950000</td>\n",
       "      <td>83.0</td>\n",
       "      <td>84.09</td>\n",
       "      <td>False</td>\n",
       "      <td>True</td>\n",
       "    </tr>\n",
       "    <tr>\n",
       "      <th>1</th>\n",
       "      <td>Academic</td>\n",
       "      <td>A</td>\n",
       "      <td>Male</td>\n",
       "      <td>Less Interested</td>\n",
       "      <td>Urban</td>\n",
       "      <td>57</td>\n",
       "      <td>4410000</td>\n",
       "      <td>76.8</td>\n",
       "      <td>86.91</td>\n",
       "      <td>False</td>\n",
       "      <td>True</td>\n",
       "    </tr>\n",
       "    <tr>\n",
       "      <th>2</th>\n",
       "      <td>Academic</td>\n",
       "      <td>B</td>\n",
       "      <td>Female</td>\n",
       "      <td>Very Interested</td>\n",
       "      <td>Urban</td>\n",
       "      <td>50</td>\n",
       "      <td>6500000</td>\n",
       "      <td>80.6</td>\n",
       "      <td>87.43</td>\n",
       "      <td>False</td>\n",
       "      <td>True</td>\n",
       "    </tr>\n",
       "    <tr>\n",
       "      <th>3</th>\n",
       "      <td>Vocational</td>\n",
       "      <td>B</td>\n",
       "      <td>Male</td>\n",
       "      <td>Very Interested</td>\n",
       "      <td>Rural</td>\n",
       "      <td>49</td>\n",
       "      <td>6600000</td>\n",
       "      <td>78.2</td>\n",
       "      <td>82.12</td>\n",
       "      <td>True</td>\n",
       "      <td>True</td>\n",
       "    </tr>\n",
       "    <tr>\n",
       "      <th>4</th>\n",
       "      <td>Academic</td>\n",
       "      <td>A</td>\n",
       "      <td>Female</td>\n",
       "      <td>Very Interested</td>\n",
       "      <td>Urban</td>\n",
       "      <td>57</td>\n",
       "      <td>5250000</td>\n",
       "      <td>75.1</td>\n",
       "      <td>86.79</td>\n",
       "      <td>False</td>\n",
       "      <td>False</td>\n",
       "    </tr>\n",
       "  </tbody>\n",
       "</table>\n",
       "</div>"
      ],
      "text/plain": [
       "  type_school school_accreditation  gender         interest residence  \\\n",
       "0    Academic                    A    Male  Less Interested     Urban   \n",
       "1    Academic                    A    Male  Less Interested     Urban   \n",
       "2    Academic                    B  Female  Very Interested     Urban   \n",
       "3  Vocational                    B    Male  Very Interested     Rural   \n",
       "4    Academic                    A  Female  Very Interested     Urban   \n",
       "\n",
       "   parent_age  parent_salary  house_area  average_grades  \\\n",
       "0          56        6950000        83.0           84.09   \n",
       "1          57        4410000        76.8           86.91   \n",
       "2          50        6500000        80.6           87.43   \n",
       "3          49        6600000        78.2           82.12   \n",
       "4          57        5250000        75.1           86.79   \n",
       "\n",
       "   parent_was_in_college  will_go_to_college  \n",
       "0                  False                True  \n",
       "1                  False                True  \n",
       "2                  False                True  \n",
       "3                   True                True  \n",
       "4                  False               False  "
      ]
     },
     "execution_count": 26,
     "metadata": {},
     "output_type": "execute_result"
    }
   ],
   "source": [
    "import pandas as pd\n",
    "import numpy as np\n",
    "import matplotlib.pyplot as plt\n",
    "import seaborn as sns\n",
    "#import time\n",
    "\n",
    "df = pd.read_csv(\"./data.csv\")\n",
    "df.head()"
   ]
  },
  {
   "cell_type": "markdown",
   "id": "3753c793",
   "metadata": {},
   "source": [
    "Modifichiamo il nome della colonna `will_go_to_college` in `in_college` per restare coerenti con la descrizione dell'attributo (lo studente è andato al college, non è che ci andrà)"
   ]
  },
  {
   "cell_type": "code",
   "execution_count": 27,
   "id": "e607252c",
   "metadata": {},
   "outputs": [
    {
     "data": {
      "text/html": [
       "<div>\n",
       "<style scoped>\n",
       "    .dataframe tbody tr th:only-of-type {\n",
       "        vertical-align: middle;\n",
       "    }\n",
       "\n",
       "    .dataframe tbody tr th {\n",
       "        vertical-align: top;\n",
       "    }\n",
       "\n",
       "    .dataframe thead th {\n",
       "        text-align: right;\n",
       "    }\n",
       "</style>\n",
       "<table border=\"1\" class=\"dataframe\">\n",
       "  <thead>\n",
       "    <tr style=\"text-align: right;\">\n",
       "      <th></th>\n",
       "      <th>type_school</th>\n",
       "      <th>school_accreditation</th>\n",
       "      <th>gender</th>\n",
       "      <th>interest</th>\n",
       "      <th>residence</th>\n",
       "      <th>parent_age</th>\n",
       "      <th>parent_salary</th>\n",
       "      <th>house_area</th>\n",
       "      <th>average_grades</th>\n",
       "      <th>parent_was_in_college</th>\n",
       "      <th>in_college</th>\n",
       "    </tr>\n",
       "  </thead>\n",
       "  <tbody>\n",
       "    <tr>\n",
       "      <th>0</th>\n",
       "      <td>Academic</td>\n",
       "      <td>A</td>\n",
       "      <td>Male</td>\n",
       "      <td>Less Interested</td>\n",
       "      <td>Urban</td>\n",
       "      <td>56</td>\n",
       "      <td>6950000</td>\n",
       "      <td>83.0</td>\n",
       "      <td>84.09</td>\n",
       "      <td>False</td>\n",
       "      <td>True</td>\n",
       "    </tr>\n",
       "    <tr>\n",
       "      <th>1</th>\n",
       "      <td>Academic</td>\n",
       "      <td>A</td>\n",
       "      <td>Male</td>\n",
       "      <td>Less Interested</td>\n",
       "      <td>Urban</td>\n",
       "      <td>57</td>\n",
       "      <td>4410000</td>\n",
       "      <td>76.8</td>\n",
       "      <td>86.91</td>\n",
       "      <td>False</td>\n",
       "      <td>True</td>\n",
       "    </tr>\n",
       "    <tr>\n",
       "      <th>2</th>\n",
       "      <td>Academic</td>\n",
       "      <td>B</td>\n",
       "      <td>Female</td>\n",
       "      <td>Very Interested</td>\n",
       "      <td>Urban</td>\n",
       "      <td>50</td>\n",
       "      <td>6500000</td>\n",
       "      <td>80.6</td>\n",
       "      <td>87.43</td>\n",
       "      <td>False</td>\n",
       "      <td>True</td>\n",
       "    </tr>\n",
       "    <tr>\n",
       "      <th>3</th>\n",
       "      <td>Vocational</td>\n",
       "      <td>B</td>\n",
       "      <td>Male</td>\n",
       "      <td>Very Interested</td>\n",
       "      <td>Rural</td>\n",
       "      <td>49</td>\n",
       "      <td>6600000</td>\n",
       "      <td>78.2</td>\n",
       "      <td>82.12</td>\n",
       "      <td>True</td>\n",
       "      <td>True</td>\n",
       "    </tr>\n",
       "    <tr>\n",
       "      <th>4</th>\n",
       "      <td>Academic</td>\n",
       "      <td>A</td>\n",
       "      <td>Female</td>\n",
       "      <td>Very Interested</td>\n",
       "      <td>Urban</td>\n",
       "      <td>57</td>\n",
       "      <td>5250000</td>\n",
       "      <td>75.1</td>\n",
       "      <td>86.79</td>\n",
       "      <td>False</td>\n",
       "      <td>False</td>\n",
       "    </tr>\n",
       "  </tbody>\n",
       "</table>\n",
       "</div>"
      ],
      "text/plain": [
       "  type_school school_accreditation  gender         interest residence  \\\n",
       "0    Academic                    A    Male  Less Interested     Urban   \n",
       "1    Academic                    A    Male  Less Interested     Urban   \n",
       "2    Academic                    B  Female  Very Interested     Urban   \n",
       "3  Vocational                    B    Male  Very Interested     Rural   \n",
       "4    Academic                    A  Female  Very Interested     Urban   \n",
       "\n",
       "   parent_age  parent_salary  house_area  average_grades  \\\n",
       "0          56        6950000        83.0           84.09   \n",
       "1          57        4410000        76.8           86.91   \n",
       "2          50        6500000        80.6           87.43   \n",
       "3          49        6600000        78.2           82.12   \n",
       "4          57        5250000        75.1           86.79   \n",
       "\n",
       "   parent_was_in_college  in_college  \n",
       "0                  False        True  \n",
       "1                  False        True  \n",
       "2                  False        True  \n",
       "3                   True        True  \n",
       "4                  False       False  "
      ]
     },
     "execution_count": 27,
     "metadata": {},
     "output_type": "execute_result"
    }
   ],
   "source": [
    "df = df.rename(columns={\"will_go_to_college\": \"in_college\"})\n",
    "df.head()"
   ]
  },
  {
   "cell_type": "markdown",
   "id": "277953e2",
   "metadata": {},
   "source": [
    "It can be noticed that some variables need to be discretized so that they can be supported by `pgmpy`. To do so, we have to preprocess the data."
   ]
  },
  {
   "cell_type": "markdown",
   "id": "035dda72",
   "metadata": {},
   "source": [
    "## 1. Preprocessing"
   ]
  },
  {
   "cell_type": "markdown",
   "id": "d56c1482",
   "metadata": {},
   "source": [
    "The variables that has to be discretized are: `parent_salary`, `parent_age`, `house_area` and `average_grades`. For each one, we print out the minimum and maximum value to obtain a better distributions of the bins. Finally, we convert the obtained value to `str`."
   ]
  },
  {
   "cell_type": "code",
   "execution_count": 28,
   "id": "bd07c18d",
   "metadata": {},
   "outputs": [
    {
     "name": "stdout",
     "output_type": "stream",
     "text": [
      "Min: 1000000\n",
      "Max: 10000000\n"
     ]
    }
   ],
   "source": [
    "# parent_salary\n",
    "print('Min:', np.min(df['parent_salary']))\n",
    "print('Max:', np.max(df['parent_salary']))"
   ]
  },
  {
   "cell_type": "code",
   "execution_count": 29,
   "id": "98d8bf65",
   "metadata": {},
   "outputs": [],
   "source": [
    "df['parent_salary'] = pd.cut(x=df['parent_salary'],\n",
    "                             bins=[np.min(df['parent_salary']),3000000,7000000,np.max(df['parent_salary'])],\n",
    "                             labels=[\"Low\", \"Medium\", \"High\"],\n",
    "                             include_lowest=True)\n",
    "\n",
    "df['parent_salary'] = df['parent_salary'].astype(str)"
   ]
  },
  {
   "cell_type": "code",
   "execution_count": 30,
   "id": "9cb5041a",
   "metadata": {},
   "outputs": [
    {
     "name": "stdout",
     "output_type": "stream",
     "text": [
      "Min: 40\n",
      "Max: 65\n"
     ]
    }
   ],
   "source": [
    "# parent_age\n",
    "print('Min:', np.min(df['parent_age']))\n",
    "print('Max:', np.max(df['parent_age']))"
   ]
  },
  {
   "cell_type": "code",
   "execution_count": 31,
   "id": "d7d3636b",
   "metadata": {},
   "outputs": [],
   "source": [
    "df['parent_age'] = pd.cut(x=df['parent_age'],\n",
    "                          bins=[np.min(df['parent_age']),45,50,55,60,np.max(df['parent_age'])],\n",
    "                          labels=[\"40-45\",\"45-50\", \"50-55\", \"55-60\", \"60-65\"],\n",
    "                          include_lowest=True)\n",
    "\n",
    "df['parent_age'] = df['parent_age'].astype(str)"
   ]
  },
  {
   "cell_type": "code",
   "execution_count": 32,
   "id": "3f2c6167",
   "metadata": {},
   "outputs": [
    {
     "name": "stdout",
     "output_type": "stream",
     "text": [
      "Min: 20.0\n",
      "Max: 120.0\n"
     ]
    }
   ],
   "source": [
    "# house_area\n",
    "print('Min:', np.min(df['house_area']))\n",
    "print('Max:', np.max(df['house_area']))"
   ]
  },
  {
   "cell_type": "code",
   "execution_count": 33,
   "id": "df903a57",
   "metadata": {},
   "outputs": [],
   "source": [
    "df['house_area'] = pd.cut(x=df['house_area'],\n",
    "                          bins=[np.min(df['house_area']),60,90,np.max(df['house_area'])],\n",
    "                          labels=[\"Small\",\"Medium\",\"Big\"],\n",
    "                          include_lowest=True)\n",
    "\n",
    "df['house_area'] = df['house_area'].astype(str)"
   ]
  },
  {
   "cell_type": "code",
   "execution_count": 34,
   "id": "97ce77ef",
   "metadata": {},
   "outputs": [
    {
     "name": "stdout",
     "output_type": "stream",
     "text": [
      "Min: 75.0\n",
      "Max: 98.0\n"
     ]
    }
   ],
   "source": [
    "# average_grades\n",
    "print('Min:', np.min(df['average_grades']))\n",
    "print('Max:', np.max(df['average_grades']))"
   ]
  },
  {
   "cell_type": "code",
   "execution_count": 35,
   "id": "bc53f22a",
   "metadata": {},
   "outputs": [],
   "source": [
    "df['average_grades'] = pd.cut(x=df['average_grades'],\n",
    "                              bins=[np.min(df['average_grades']),85,95,np.max(df['average_grades'])],\n",
    "                              labels=[\"75 - 85\",\"85 - 95\",\"95+\"],\n",
    "                              include_lowest=True)\n",
    "\n",
    "df['average_grades'] = df['average_grades'].astype(str)"
   ]
  },
  {
   "cell_type": "code",
   "execution_count": 36,
   "id": "5524ba4f",
   "metadata": {},
   "outputs": [
    {
     "data": {
      "text/html": [
       "<div>\n",
       "<style scoped>\n",
       "    .dataframe tbody tr th:only-of-type {\n",
       "        vertical-align: middle;\n",
       "    }\n",
       "\n",
       "    .dataframe tbody tr th {\n",
       "        vertical-align: top;\n",
       "    }\n",
       "\n",
       "    .dataframe thead th {\n",
       "        text-align: right;\n",
       "    }\n",
       "</style>\n",
       "<table border=\"1\" class=\"dataframe\">\n",
       "  <thead>\n",
       "    <tr style=\"text-align: right;\">\n",
       "      <th></th>\n",
       "      <th>type_school</th>\n",
       "      <th>school_accreditation</th>\n",
       "      <th>gender</th>\n",
       "      <th>interest</th>\n",
       "      <th>residence</th>\n",
       "      <th>parent_age</th>\n",
       "      <th>parent_salary</th>\n",
       "      <th>house_area</th>\n",
       "      <th>average_grades</th>\n",
       "      <th>parent_was_in_college</th>\n",
       "      <th>in_college</th>\n",
       "    </tr>\n",
       "  </thead>\n",
       "  <tbody>\n",
       "    <tr>\n",
       "      <th>0</th>\n",
       "      <td>Academic</td>\n",
       "      <td>A</td>\n",
       "      <td>Male</td>\n",
       "      <td>Less Interested</td>\n",
       "      <td>Urban</td>\n",
       "      <td>55-60</td>\n",
       "      <td>Medium</td>\n",
       "      <td>Medium</td>\n",
       "      <td>75 - 85</td>\n",
       "      <td>False</td>\n",
       "      <td>True</td>\n",
       "    </tr>\n",
       "    <tr>\n",
       "      <th>1</th>\n",
       "      <td>Academic</td>\n",
       "      <td>A</td>\n",
       "      <td>Male</td>\n",
       "      <td>Less Interested</td>\n",
       "      <td>Urban</td>\n",
       "      <td>55-60</td>\n",
       "      <td>Medium</td>\n",
       "      <td>Medium</td>\n",
       "      <td>85 - 95</td>\n",
       "      <td>False</td>\n",
       "      <td>True</td>\n",
       "    </tr>\n",
       "    <tr>\n",
       "      <th>2</th>\n",
       "      <td>Academic</td>\n",
       "      <td>B</td>\n",
       "      <td>Female</td>\n",
       "      <td>Very Interested</td>\n",
       "      <td>Urban</td>\n",
       "      <td>45-50</td>\n",
       "      <td>Medium</td>\n",
       "      <td>Medium</td>\n",
       "      <td>85 - 95</td>\n",
       "      <td>False</td>\n",
       "      <td>True</td>\n",
       "    </tr>\n",
       "    <tr>\n",
       "      <th>3</th>\n",
       "      <td>Vocational</td>\n",
       "      <td>B</td>\n",
       "      <td>Male</td>\n",
       "      <td>Very Interested</td>\n",
       "      <td>Rural</td>\n",
       "      <td>45-50</td>\n",
       "      <td>Medium</td>\n",
       "      <td>Medium</td>\n",
       "      <td>75 - 85</td>\n",
       "      <td>True</td>\n",
       "      <td>True</td>\n",
       "    </tr>\n",
       "    <tr>\n",
       "      <th>4</th>\n",
       "      <td>Academic</td>\n",
       "      <td>A</td>\n",
       "      <td>Female</td>\n",
       "      <td>Very Interested</td>\n",
       "      <td>Urban</td>\n",
       "      <td>55-60</td>\n",
       "      <td>Medium</td>\n",
       "      <td>Medium</td>\n",
       "      <td>85 - 95</td>\n",
       "      <td>False</td>\n",
       "      <td>False</td>\n",
       "    </tr>\n",
       "  </tbody>\n",
       "</table>\n",
       "</div>"
      ],
      "text/plain": [
       "  type_school school_accreditation  gender         interest residence  \\\n",
       "0    Academic                    A    Male  Less Interested     Urban   \n",
       "1    Academic                    A    Male  Less Interested     Urban   \n",
       "2    Academic                    B  Female  Very Interested     Urban   \n",
       "3  Vocational                    B    Male  Very Interested     Rural   \n",
       "4    Academic                    A  Female  Very Interested     Urban   \n",
       "\n",
       "  parent_age parent_salary house_area average_grades  parent_was_in_college  \\\n",
       "0      55-60        Medium     Medium        75 - 85                  False   \n",
       "1      55-60        Medium     Medium        85 - 95                  False   \n",
       "2      45-50        Medium     Medium        85 - 95                  False   \n",
       "3      45-50        Medium     Medium        75 - 85                   True   \n",
       "4      55-60        Medium     Medium        85 - 95                  False   \n",
       "\n",
       "   in_college  \n",
       "0        True  \n",
       "1        True  \n",
       "2        True  \n",
       "3        True  \n",
       "4       False  "
      ]
     },
     "execution_count": 36,
     "metadata": {},
     "output_type": "execute_result"
    }
   ],
   "source": [
    "df.head()"
   ]
  },
  {
   "cell_type": "code",
   "execution_count": 37,
   "id": "a4a5d844",
   "metadata": {},
   "outputs": [
    {
     "name": "stderr",
     "output_type": "stream",
     "text": [
      "/var/folders/yy/7vjk399x4ls139wgb41m3j7w0000gn/T/ipykernel_1151/3466518570.py:6: UserWarning: Matplotlib is currently using module://matplotlib_inline.backend_inline, which is a non-GUI backend, so cannot show the figure.\n",
      "  fig.show()\n"
     ]
    },
    {
     "data": {
      "image/png": "[encoded data removed]",
      "text/plain": [
       "<Figure size 1500x300 with 4 Axes>"
      ]
     },
     "metadata": {},
     "output_type": "display_data"
    }
   ],
   "source": [
    "discretized_features = ['parent_salary', 'parent_age', 'house_area', 'average_grades']\n",
    "\n",
    "fig, ax = plt.subplots(1, len(discretized_features))\n",
    "for i, feature in enumerate(df[discretized_features]):\n",
    "    df[feature].value_counts().plot(kind=\"bar\", ax=ax[i], figsize=(15,3)).set_title(feature)\n",
    "fig.show()"
   ]
  },
  {
   "cell_type": "markdown",
   "id": "7ad1adf6",
   "metadata": {},
   "source": [
    "## 2. Data Exploration"
   ]
  },
  {
   "cell_type": "markdown",
   "id": "9ca4893d",
   "metadata": {},
   "source": [
    "Esploriamo i dati in modo da comprendere le relazioni tra gli attributi e fare delle inferenze."
   ]
  },
  {
   "cell_type": "markdown",
   "id": "46490082",
   "metadata": {},
   "source": [
    "Le prime relazioni che abbiamo esplorato sono quelle riguardanti gli attributi che, secondo noi, potrebbero direttamente influenzare la scelta dello studente di frequentare il college. Tra questi l'interesse, il tipo di liceo frequentato, la prestigiosità del liceo, il genere e la frequentazione del college da parte del genitore."
   ]
  },
  {
   "cell_type": "markdown",
   "id": "35773edc",
   "metadata": {},
   "source": [
    "#### 1. Interest"
   ]
  },
  {
   "cell_type": "markdown",
   "id": "de3a654f",
   "metadata": {},
   "source": [
    "Intuitivamente verrebbe da pensare che l'interesse di uno studente nell'andare al college sia strettamente correlato al frequentare effettivamente il college. Analizziamo la relazione tra queste due variabili:"
   ]
  },
  {
   "cell_type": "code",
   "execution_count": 73,
   "id": "adee7879",
   "metadata": {},
   "outputs": [
    {
     "data": {
      "text/plain": [
       "<AxesSubplot: xlabel='interest', ylabel='count'>"
      ]
     },
     "execution_count": 73,
     "metadata": {},
     "output_type": "execute_result"
    },
    {
     "data": {
      "image/png": "[encoded data removed]",
      "text/plain": [
       "<Figure size 700x300 with 1 Axes>"
      ]
     },
     "metadata": {},
     "output_type": "display_data"
    }
   ],
   "source": [
    "plt.figure(figsize=(7,3))\n",
    "sns.countplot(data=df,\n",
    "              x='interest',\n",
    "              hue='in_college', \n",
    "              order=['Not Interested','Less Interested','Uncertain','Interested','Very Interested'],\n",
    "              width=0.5\n",
    "             )"
   ]
  },
  {
   "cell_type": "markdown",
   "id": "650b1ea0",
   "metadata": {},
   "source": [
    "Actually, the graph shows that interest doesn't linearly correlates with college admission. But why? Well, there are students who are (very) interested to go to college that don't get accepted and there are students who are not interested to go to college but still go to college. In conclusion, we can state that `interest` does not necessarily imply `in_college`."
   ]
  },
  {
   "cell_type": "markdown",
   "id": "9c0b0c25",
   "metadata": {},
   "source": [
    "#### 2. Type of school"
   ]
  },
  {
   "cell_type": "markdown",
   "id": "79eadb24",
   "metadata": {},
   "source": [
    "Come spiegato dal creatore del dataset, in Indonesia ci sono due tipi di liceo. Tipicamente, gli studenti che optano per un liceo di tipo Vocational sono coloro maggiormente interessati ad ottenere conoscenze pratiche da spendere subito nel mondo del lavoro. Dunque si potrebbe desumere che il tipo di scuola sia correlato con la scelta di andare al college."
   ]
  },
  {
   "cell_type": "code",
   "execution_count": 72,
   "id": "c0948249",
   "metadata": {},
   "outputs": [
    {
     "data": {
      "text/plain": [
       "<AxesSubplot: xlabel='type_school', ylabel='count'>"
      ]
     },
     "execution_count": 72,
     "metadata": {},
     "output_type": "execute_result"
    },
    {
     "data": {
      "image/png": "[encoded data removed]",
      "text/plain": [
       "<Figure size 700x300 with 1 Axes>"
      ]
     },
     "metadata": {},
     "output_type": "display_data"
    }
   ],
   "source": [
    "plt.figure(figsize=(7,3))\n",
    "sns.countplot(data=df,\n",
    "              x='type_school',\n",
    "              hue='in_college',\n",
    "              width=0.5\n",
    "             )"
   ]
  },
  {
   "cell_type": "markdown",
   "id": "d2523673",
   "metadata": {},
   "source": [
    "Students of academic high school are a little more likely to go to college."
   ]
  },
  {
   "cell_type": "markdown",
   "id": "b505b67a",
   "metadata": {},
   "source": [
    "#### 3. School accreditation"
   ]
  },
  {
   "cell_type": "markdown",
   "id": "889824c3",
   "metadata": {},
   "source": [
    "L'ammissione al college potrebbe essere influenzata dalla prestigiosità del liceo."
   ]
  },
  {
   "cell_type": "code",
   "execution_count": 82,
   "id": "d6dd717a",
   "metadata": {},
   "outputs": [
    {
     "data": {
      "text/plain": [
       "<AxesSubplot: xlabel='school_accreditation', ylabel='count'>"
      ]
     },
     "execution_count": 82,
     "metadata": {},
     "output_type": "execute_result"
    },
    {
     "data": {
      "image/png": "[encoded data removed]",
      "text/plain": [
       "<Figure size 700x300 with 1 Axes>"
      ]
     },
     "metadata": {},
     "output_type": "display_data"
    }
   ],
   "source": [
    "plt.figure(figsize=(7,3))\n",
    "sns.countplot(data=df,\n",
    "              x='school_accreditation',\n",
    "              hue='in_college',\n",
    "              width=0.2\n",
    "             )"
   ]
  },
  {
   "cell_type": "markdown",
   "id": "4498fadb",
   "metadata": {},
   "source": [
    "The countplot shows that students of good accredited high school are a little more likely to go to college."
   ]
  },
  {
   "cell_type": "markdown",
   "id": "b6f30e05",
   "metadata": {},
   "source": [
    "#### 4. Gender"
   ]
  },
  {
   "cell_type": "markdown",
   "id": "3069863a",
   "metadata": {},
   "source": [
    "Vediamo se il genere influisce sull'andare al college (no intention for gender discrimination)"
   ]
  },
  {
   "cell_type": "code",
   "execution_count": 83,
   "id": "d4959cce",
   "metadata": {},
   "outputs": [
    {
     "data": {
      "text/plain": [
       "<AxesSubplot: xlabel='gender', ylabel='count'>"
      ]
     },
     "execution_count": 83,
     "metadata": {},
     "output_type": "execute_result"
    },
    {
     "data": {
      "image/png": "[encoded data removed]",
      "text/plain": [
       "<Figure size 800x300 with 1 Axes>"
      ]
     },
     "metadata": {},
     "output_type": "display_data"
    }
   ],
   "source": [
    "plt.figure(figsize=(8,3))\n",
    "sns.countplot(data=df,\n",
    "              x='gender',\n",
    "              hue='in_college',\n",
    "              width=0.3\n",
    "             )"
   ]
  },
  {
   "cell_type": "markdown",
   "id": "3735c553",
   "metadata": {},
   "source": [
    "Female students are a little more likely to go to college."
   ]
  },
  {
   "cell_type": "markdown",
   "id": "204ebb1b",
   "metadata": {},
   "source": [
    "#### 5. Parent was in college"
   ]
  },
  {
   "cell_type": "markdown",
   "id": "49506213",
   "metadata": {},
   "source": [
    "Se il genitore è andato al college, il figlio sarà più propenso ad andare al college?"
   ]
  },
  {
   "cell_type": "code",
   "execution_count": 90,
   "id": "79472aa8",
   "metadata": {},
   "outputs": [
    {
     "data": {
      "text/plain": [
       "<AxesSubplot: xlabel='parent_was_in_college', ylabel='count'>"
      ]
     },
     "execution_count": 90,
     "metadata": {},
     "output_type": "execute_result"
    },
    {
     "data": {
      "image/png": "[encoded data removed]",
      "text/plain": [
       "<Figure size 800x300 with 1 Axes>"
      ]
     },
     "metadata": {},
     "output_type": "display_data"
    }
   ],
   "source": [
    "plt.figure(figsize=(8,3))\n",
    "sns.countplot(data=df,\n",
    "              x='parent_was_in_college',\n",
    "              hue='in_college',\n",
    "              width=0.3\n",
    "             )"
   ]
  },
  {
   "cell_type": "markdown",
   "id": "c29451fb",
   "metadata": {},
   "source": [
    "The graph shows... bla bla bla... vedi tu. If the parent was in college, the student will more likely go to college."
   ]
  },
  {
   "cell_type": "markdown",
   "id": "681c678a",
   "metadata": {},
   "source": [
    "#### 6. Average grades"
   ]
  },
  {
   "cell_type": "code",
   "execution_count": 91,
   "id": "67e85f9d",
   "metadata": {},
   "outputs": [
    {
     "data": {
      "text/plain": [
       "<AxesSubplot: xlabel='average_grades', ylabel='count'>"
      ]
     },
     "execution_count": 91,
     "metadata": {},
     "output_type": "execute_result"
    },
    {
     "data": {
      "image/png": "[encoded data removed]",
      "text/plain": [
       "<Figure size 800x300 with 1 Axes>"
      ]
     },
     "metadata": {},
     "output_type": "display_data"
    }
   ],
   "source": [
    "plt.figure(figsize=(8,3))\n",
    "sns.countplot(data=df,\n",
    "              x='average_grades',\n",
    "              hue='in_college',\n",
    "              width=0.3\n",
    "             )"
   ]
  },
  {
   "cell_type": "markdown",
   "id": "fc43838f",
   "metadata": {},
   "source": [
    "Adesso esaminiamo le relazioni che sussistono tra gli attributi che non influenzano direttamente la scelta di frequentare il college."
   ]
  },
  {
   "cell_type": "markdown",
   "id": "da2ac212",
   "metadata": {},
   "source": [
    "**Teoria**\n",
    "\n",
    "//PACCO 3\n",
    "\n",
    "- Compact conditional distributions (Vedi se mettere riferimento) -> solo discorsiva, no codice"
   ]
  },
  {
   "cell_type": "markdown",
   "id": "e9722161",
   "metadata": {},
   "source": [
    "## Bayesian Network"
   ]
  },
  {
   "cell_type": "code",
   "execution_count": 21,
   "id": "b477b6d3",
   "metadata": {},
   "outputs": [
    {
     "data": {
      "image/png": "[encoded data removed]",
      "text/plain": [
       "<Figure size 396.85x340.157 with 1 Axes>"
      ]
     },
     "metadata": {},
     "output_type": "display_data"
    }
   ],
   "source": [
    "import daft #(punk)\n",
    "import matplotlib.pyplot as plt\n",
    "from daft import PGM\n",
    "\n",
    "pgm = PGM(shape=[7, 6])\n",
    "\n",
    "pgm.add_node(daft.Node('Pic', r\"Pic\", 1, 6))\n",
    "pgm.add_node(daft.Node('Age', r\"Age\", 3, 6))\n",
    "\n",
    "pgm.add_node(daft.Node('Sal', r\"Sal\", 2, 5))\n",
    "\n",
    "pgm.add_node(daft.Node('Acc', r\"Acc\", 1, 4))\n",
    "pgm.add_node(daft.Node('Har', r\"Har\", 2, 4))\n",
    "pgm.add_node(daft.Node('Res', r\"Res\", 4, 4))\n",
    "pgm.add_node(daft.Node('Avg', r\"Avg\", 6, 4))\n",
    "\n",
    "pgm.add_node(daft.Node('Tos', r\"Tos\", 4, 3))\n",
    "pgm.add_node(daft.Node('Int', r\"Int\", 6, 3))\n",
    "\n",
    "pgm.add_node(daft.Node('Gtc', r\"Gtc\", 4, 1))\n",
    "\n",
    "\n",
    "pgm.add_edge('Pic', 'Sal')\n",
    "pgm.add_edge('Age', 'Sal')\n",
    "pgm.add_edge('Sal', 'Acc')\n",
    "pgm.add_edge('Sal', 'Har')\n",
    "pgm.add_edge('Sal', 'Gtc')\n",
    "pgm.add_edge('Sal', 'Res')\n",
    "pgm.add_edge('Res', 'Tos')\n",
    "pgm.add_edge('Avg', 'Gtc')\n",
    "pgm.add_edge('Avg', 'Int')\n",
    "pgm.add_edge('Tos', 'Gtc')\n",
    "pgm.add_edge('Int', 'Gtc')\n",
    "\n",
    "\n",
    "pgm.render()\n",
    "plt.show()"
   ]
  },
  {
   "cell_type": "markdown",
   "id": "d6a89256",
   "metadata": {},
   "source": [
    "### Network implementation"
   ]
  },
  {
   "cell_type": "code",
   "execution_count": 22,
   "id": "bf50c9d0",
   "metadata": {},
   "outputs": [],
   "source": [
    "from pgmpy.models import BayesianNetwork\n",
    "\n",
    "model = BayesianNetwork([('parent_was_in_college','parent_salary'),('parent_age','parent_salary'),\n",
    "                         ('parent_salary','school_accreditation'),('parent_salary','house_area'),\n",
    "                         ('parent_salary','will_go_to_college'),('parent_salary','residence'),\n",
    "                         ('residence', 'type_school'), ('average_grades', 'will_go_to_college'), \n",
    "                         ('average_grades','interest'),('type_school', 'will_go_to_college'), \n",
    "                         ('interest', 'will_go_to_college')])\n",
    "\n"
   ]
  },
  {
   "cell_type": "markdown",
   "id": "6dc3484f",
   "metadata": {},
   "source": [
    "**TODO**\n",
    "\n",
    "Scrivere che Gender l'abbiamo droppato OK\n",
    "\n",
    "Trovare papers su:\n",
    "- Media dei voti che può influenzare una futura scelta per il college (avg -> int)\n",
    "- Residenaza influenza type of school (res -> tos)"
   ]
  },
  {
   "cell_type": "markdown",
   "id": "b35c0d14",
   "metadata": {},
   "source": [
    "**Teoria da inserire** \n",
    "\n",
    "1. Basic independences (eventuali strutture a V)\n",
    "\n",
    "//PACCO 2\n",
    "\n",
    "Basic Independencies in the will-I-go-to-college network -> mostriamo le indipendenze<br>\n",
    "Flow of Probabilistic Influence<br>\n",
    "- direct cause\n",
    "- direct effect\n",
    "- causal trail\n",
    "- evidential trail\n",
    "    - Active Trail\n",
    "    - Direct Separation (d-separation)\n",
    "    \n",
    "Markov Blanket (prendi un nodo e falla vedere)\n",
    "\n",
    "//PACCO 3\n",
    "- Irrelevant variables"
   ]
  },
  {
   "cell_type": "markdown",
   "id": "b4b67b2a",
   "metadata": {},
   "source": [
    "## Parameter Estimation\n",
    "\n",
    "\n",
    "teoria dell'estimator MLE-> https://towardsdatascience.com/maximum-likelihood-vs-bayesian-estimation-dd2eb4dfda8a\n",
    "\n",
    "CPD = conditional probability distribution\n",
    "CPT = conditional probability table\n",
    "\n",
    "DA FARE!!!\n",
    "\n",
    "->student_model.check_model()"
   ]
  },
  {
   "cell_type": "code",
   "execution_count": 105,
   "id": "2e793865",
   "metadata": {},
   "outputs": [
    {
     "name": "stdout",
     "output_type": "stream",
     "text": [
      "Check model:  True\n",
      "parent_was_in_college\n",
      "+------------------------------+------+\n",
      "| parent_was_in_college(False) | 0.48 |\n",
      "+------------------------------+------+\n",
      "| parent_was_in_college(True)  | 0.52 |\n",
      "+------------------------------+------+\n",
      "parent_salary\n",
      "+-----------------------+------------------------------+-----+-----------------------------+\n",
      "| parent_age            | parent_age(40-45)            | ... | parent_age(60-65)           |\n",
      "+-----------------------+------------------------------+-----+-----------------------------+\n",
      "| parent_was_in_college | parent_was_in_college(False) | ... | parent_was_in_college(True) |\n",
      "+-----------------------+------------------------------+-----+-----------------------------+\n",
      "| parent_salary(High)   | 0.6                          | ... | 0.0                         |\n",
      "+-----------------------+------------------------------+-----+-----------------------------+\n",
      "| parent_salary(Low)    | 0.0                          | ... | 0.0                         |\n",
      "+-----------------------+------------------------------+-----+-----------------------------+\n",
      "| parent_salary(Medium) | 0.4                          | ... | 1.0                         |\n",
      "+-----------------------+------------------------------+-----+-----------------------------+\n",
      "parent_age\n",
      "+-------------------+-------+\n",
      "| parent_age(40-45) | 0.033 |\n",
      "+-------------------+-------+\n",
      "| parent_age(45-50) | 0.26  |\n",
      "+-------------------+-------+\n",
      "| parent_age(50-55) | 0.556 |\n",
      "+-------------------+-------+\n",
      "| parent_age(55-60) | 0.143 |\n",
      "+-------------------+-------+\n",
      "| parent_age(60-65) | 0.008 |\n",
      "+-------------------+-------+\n",
      "school_accreditation\n",
      "+-------------------------+---------------------+--------------------+-----------------------+\n",
      "| parent_salary           | parent_salary(High) | parent_salary(Low) | parent_salary(Medium) |\n",
      "+-------------------------+---------------------+--------------------+-----------------------+\n",
      "| school_accreditation(A) | 0.4462809917355372  | 0.4358974358974359 | 0.4880952380952381    |\n",
      "+-------------------------+---------------------+--------------------+-----------------------+\n",
      "| school_accreditation(B) | 0.5537190082644629  | 0.5641025641025641 | 0.5119047619047619    |\n",
      "+-------------------------+---------------------+--------------------+-----------------------+\n",
      "house_area\n",
      "+--------------------+---------------------+--------------------+-----------------------+\n",
      "| parent_salary      | parent_salary(High) | parent_salary(Low) | parent_salary(Medium) |\n",
      "+--------------------+---------------------+--------------------+-----------------------+\n",
      "| house_area(Big)    | 0.1652892561983471  | 0.1282051282051282 | 0.14166666666666666   |\n",
      "+--------------------+---------------------+--------------------+-----------------------+\n",
      "| house_area(Medium) | 0.7603305785123967  | 0.8717948717948718 | 0.6797619047619048    |\n",
      "+--------------------+---------------------+--------------------+-----------------------+\n",
      "| house_area(Small)  | 0.0743801652892562  | 0.0                | 0.17857142857142858   |\n",
      "+--------------------+---------------------+--------------------+-----------------------+\n",
      "will_go_to_college\n",
      "+---------------------------+-------------------------+-----+---------------------------+\n",
      "| average_grades            | average_grades(75 - 85) | ... | average_grades(95+)       |\n",
      "+---------------------------+-------------------------+-----+---------------------------+\n",
      "| interest                  | interest(Interested)    | ... | interest(Very Interested) |\n",
      "+---------------------------+-------------------------+-----+---------------------------+\n",
      "| parent_salary             | parent_salary(High)     | ... | parent_salary(Medium)     |\n",
      "+---------------------------+-------------------------+-----+---------------------------+\n",
      "| type_school               | type_school(Academic)   | ... | type_school(Vocational)   |\n",
      "+---------------------------+-------------------------+-----+---------------------------+\n",
      "| will_go_to_college(False) | 0.5                     | ... | 0.5                       |\n",
      "+---------------------------+-------------------------+-----+---------------------------+\n",
      "| will_go_to_college(True)  | 0.5                     | ... | 0.5                       |\n",
      "+---------------------------+-------------------------+-----+---------------------------+\n",
      "residence\n",
      "+------------------+---------------------+---------------------+-----------------------+\n",
      "| parent_salary    | parent_salary(High) | parent_salary(Low)  | parent_salary(Medium) |\n",
      "+------------------+---------------------+---------------------+-----------------------+\n",
      "| residence(Rural) | 0.7355371900826446  | 0.20512820512820512 | 0.43333333333333335   |\n",
      "+------------------+---------------------+---------------------+-----------------------+\n",
      "| residence(Urban) | 0.2644628099173554  | 0.7948717948717948  | 0.5666666666666667    |\n",
      "+------------------+---------------------+---------------------+-----------------------+\n",
      "type_school\n",
      "+-------------------------+--------------------+---------------------+\n",
      "| residence               | residence(Rural)   | residence(Urban)    |\n",
      "+-------------------------+--------------------+---------------------+\n",
      "| type_school(Academic)   | 0.4793926247288503 | 0.7198515769944341  |\n",
      "+-------------------------+--------------------+---------------------+\n",
      "| type_school(Vocational) | 0.5206073752711496 | 0.28014842300556586 |\n",
      "+-------------------------+--------------------+---------------------+\n",
      "average_grades\n",
      "+-------------------------+-------+\n",
      "| average_grades(75 - 85) | 0.424 |\n",
      "+-------------------------+-------+\n",
      "| average_grades(85 - 95) | 0.566 |\n",
      "+-------------------------+-------+\n",
      "| average_grades(95+)     | 0.01  |\n",
      "+-------------------------+-------+\n",
      "interest\n",
      "+---------------------------+-------------------------+-------------------------+---------------------+\n",
      "| average_grades            | average_grades(75 - 85) | average_grades(85 - 95) | average_grades(95+) |\n",
      "+---------------------------+-------------------------+-------------------------+---------------------+\n",
      "| interest(Interested)      | 0.12971698113207547     | 0.07950530035335689     | 0.0                 |\n",
      "+---------------------------+-------------------------+-------------------------+---------------------+\n",
      "| interest(Less Interested) | 0.2971698113207547      | 0.18197879858657243     | 0.0                 |\n",
      "+---------------------------+-------------------------+-------------------------+---------------------+\n",
      "| interest(Not Interested)  | 0.07547169811320754     | 0.09187279151943463     | 0.2                 |\n",
      "+---------------------------+-------------------------+-------------------------+---------------------+\n",
      "| interest(Uncertain)       | 0.19811320754716982     | 0.3003533568904594      | 0.7                 |\n",
      "+---------------------------+-------------------------+-------------------------+---------------------+\n",
      "| interest(Very Interested) | 0.29952830188679247     | 0.3462897526501767      | 0.1                 |\n",
      "+---------------------------+-------------------------+-------------------------+---------------------+\n"
     ]
    }
   ],
   "source": [
    "from pgmpy.estimators import MaximumLikelihoodEstimator\n",
    "\n",
    "model.cpds = []\n",
    "model.fit(data=df, estimator=MaximumLikelihoodEstimator)\n",
    "\n",
    "print(\"Check model: \", model.check_model())\n",
    "\n",
    "# let's show cpt's\n",
    "for cpd in model.get_cpds():\n",
    "    print(cpd.variable)\n",
    "    print(cpd)"
   ]
  },
  {
   "cell_type": "markdown",
   "id": "df99fcc8",
   "metadata": {},
   "source": [
    "## Reasoning (query)"
   ]
  },
  {
   "cell_type": "markdown",
   "id": "4f5d764b",
   "metadata": {},
   "source": [
    "- Causal: will George get a strong reference letter? (prediction)\n",
    "- Evidential: is George a good potential recruit? (explanation)\n",
    "- Intercausal: why did George score low/high? (explaining away)"
   ]
  },
  {
   "cell_type": "markdown",
   "id": "e082f917",
   "metadata": {},
   "source": [
    "### Exact Inference"
   ]
  },
  {
   "cell_type": "markdown",
   "id": "6b84fd62",
   "metadata": {},
   "source": [
    "//PACCO 3\n",
    "\n",
    "- Exact Inference (metti formula e come si calcola spiegazione)\n",
    "  \t- Inference by enumeration (vedi se pgmpy ce l'ha)\n",
    "  \t- Inference by variable elimination"
   ]
  },
  {
   "cell_type": "markdown",
   "id": "de841c12",
   "metadata": {},
   "source": [
    "#### Causal\n",
    "Cerchiamo di predirre la classe target, con una o più evidenze"
   ]
  },
  {
   "cell_type": "code",
   "execution_count": 24,
   "id": "2711a1a0",
   "metadata": {},
   "outputs": [
    {
     "name": "stdout",
     "output_type": "stream",
     "text": [
      "+---------------------------+---------------------------+\n",
      "| will_go_to_college        |   phi(will_go_to_college) |\n",
      "+===========================+===========================+\n",
      "| will_go_to_college(False) |                    0.4583 |\n",
      "+---------------------------+---------------------------+\n",
      "| will_go_to_college(True)  |                    0.5417 |\n",
      "+---------------------------+---------------------------+\n"
     ]
    }
   ],
   "source": [
    "from pgmpy.inference import VariableElimination\n",
    "\n",
    "vel_inference = VariableElimination(model)\n",
    "\n",
    "q_cau1 = vel_inference.query(['will_go_to_college'], show_progress=False)\n",
    "\n",
    "print(q_cau1)"
   ]
  },
  {
   "cell_type": "code",
   "execution_count": 107,
   "id": "84aa602d",
   "metadata": {},
   "outputs": [
    {
     "name": "stdout",
     "output_type": "stream",
     "text": [
      "P(Letter|Intelligence=normal,Difficulty=easy)\n",
      "P(will_go_to_college | interest = Not Interested)\n",
      "+---------------------------+---------------------------+\n",
      "| will_go_to_college        |   phi(will_go_to_college) |\n",
      "+===========================+===========================+\n",
      "| will_go_to_college(False) |                    0.3400 |\n",
      "+---------------------------+---------------------------+\n",
      "| will_go_to_college(True)  |                    0.6600 |\n",
      "+---------------------------+---------------------------+\n"
     ]
    }
   ],
   "source": [
    "print('P(Letter|Intelligence=normal,Difficulty=easy)')\n",
    "print('P(will_go_to_college | interest = Not Interested)')\n",
    "q_cau2 = vel_inference.query(['will_go_to_college'],{'interest':'Not Interested'}, show_progress=False)\n",
    "\n",
    "print(q_cau2)"
   ]
  },
  {
   "cell_type": "code",
   "execution_count": 26,
   "id": "97748158",
   "metadata": {},
   "outputs": [
    {
     "name": "stdout",
     "output_type": "stream",
     "text": [
      "+---------------------------+---------------------------+\n",
      "| will_go_to_college        |   phi(will_go_to_college) |\n",
      "+===========================+===========================+\n",
      "| will_go_to_college(False) |                    0.5392 |\n",
      "+---------------------------+---------------------------+\n",
      "| will_go_to_college(True)  |                    0.4608 |\n",
      "+---------------------------+---------------------------+\n"
     ]
    }
   ],
   "source": [
    "q_cau3 = vel_inference.query(['will_go_to_college'],{'interest':'Less Interested'}, show_progress=False)\n",
    "\n",
    "print(q_cau3)"
   ]
  },
  {
   "cell_type": "code",
   "execution_count": 27,
   "id": "327f9cab",
   "metadata": {},
   "outputs": [
    {
     "name": "stdout",
     "output_type": "stream",
     "text": [
      "+---------------------------+---------------------------+\n",
      "| will_go_to_college        |   phi(will_go_to_college) |\n",
      "+===========================+===========================+\n",
      "| will_go_to_college(False) |                    0.9271 |\n",
      "+---------------------------+---------------------------+\n",
      "| will_go_to_college(True)  |                    0.0729 |\n",
      "+---------------------------+---------------------------+\n"
     ]
    }
   ],
   "source": [
    "q_cau4 = vel_inference.query(['will_go_to_college'],{'interest':'Not Interested', 'parent_salary':'Low'}, show_progress=False)\n",
    "\n",
    "print(q_cau4)"
   ]
  },
  {
   "cell_type": "markdown",
   "id": "8d3cd78b",
   "metadata": {},
   "source": [
    "#### Evidential\n",
    "Possiamo cercare la probabilità di qualsiasi attributo data una a o più evidenze."
   ]
  },
  {
   "cell_type": "code",
   "execution_count": 28,
   "id": "a4adeb90",
   "metadata": {},
   "outputs": [
    {
     "name": "stdout",
     "output_type": "stream",
     "text": [
      "+-------------------------+-----------------------+\n",
      "| average_grades          |   phi(average_grades) |\n",
      "+=========================+=======================+\n",
      "| average_grades(75 - 85) |                0.2536 |\n",
      "+-------------------------+-----------------------+\n",
      "| average_grades(85 - 95) |                0.7312 |\n",
      "+-------------------------+-----------------------+\n",
      "| average_grades(95+)     |                0.0152 |\n",
      "+-------------------------+-----------------------+\n"
     ]
    }
   ],
   "source": [
    "q_ev1 = vel_inference.query(['average_grades'],{'will_go_to_college':1}, show_progress=False)\n",
    "\n",
    "print(q_ev1)"
   ]
  },
  {
   "cell_type": "code",
   "execution_count": 29,
   "id": "d39f39cf",
   "metadata": {},
   "outputs": [
    {
     "name": "stdout",
     "output_type": "stream",
     "text": [
      "+-------------------------+-----------------------+\n",
      "| average_grades          |   phi(average_grades) |\n",
      "+=========================+=======================+\n",
      "| average_grades(75 - 85) |                0.6253 |\n",
      "+-------------------------+-----------------------+\n",
      "| average_grades(85 - 95) |                0.3708 |\n",
      "+-------------------------+-----------------------+\n",
      "| average_grades(95+)     |                0.0039 |\n",
      "+-------------------------+-----------------------+\n"
     ]
    }
   ],
   "source": [
    "q_ev2 = vel_inference.query(['average_grades'],{'will_go_to_college':0}, show_progress=False)\n",
    "\n",
    "print(q_ev2)"
   ]
  },
  {
   "cell_type": "markdown",
   "id": "52bf803d",
   "metadata": {},
   "source": [
    "Quality of education A B\n",
    "http://www.gbgindonesia.com/en/education/article/2011/ensuring_quality_over_quantity_in_higher_education.php"
   ]
  },
  {
   "cell_type": "code",
   "execution_count": 30,
   "id": "fd61b8dd",
   "metadata": {},
   "outputs": [
    {
     "name": "stdout",
     "output_type": "stream",
     "text": [
      "+-----------------------+----------------------+\n",
      "| parent_salary         |   phi(parent_salary) |\n",
      "+=======================+======================+\n",
      "| parent_salary(High)   |               0.1445 |\n",
      "+-----------------------+----------------------+\n",
      "| parent_salary(Low)    |               0.0552 |\n",
      "+-----------------------+----------------------+\n",
      "| parent_salary(Medium) |               0.8003 |\n",
      "+-----------------------+----------------------+\n"
     ]
    }
   ],
   "source": [
    "q_ev3 = vel_inference.query(['parent_salary'],{'house_area':'Medium', 'school_accreditation':'B'}, show_progress=False)\n",
    "\n",
    "print(q_ev3)"
   ]
  },
  {
   "cell_type": "code",
   "execution_count": 31,
   "id": "a48d42fe",
   "metadata": {},
   "outputs": [
    {
     "name": "stdout",
     "output_type": "stream",
     "text": [
      "+-----------------------+----------------------+\n",
      "| parent_salary         |   phi(parent_salary) |\n",
      "+=======================+======================+\n",
      "| parent_salary(High)   |               0.1523 |\n",
      "+-----------------------+----------------------+\n",
      "| parent_salary(Low)    |               0.0393 |\n",
      "+-----------------------+----------------------+\n",
      "| parent_salary(Medium) |               0.8084 |\n",
      "+-----------------------+----------------------+\n"
     ]
    }
   ],
   "source": [
    "q_ev3 = vel_inference.query(['parent_salary'],{'house_area':'Big', 'school_accreditation':'B'}, show_progress=False)\n",
    "\n",
    "print(q_ev3)"
   ]
  },
  {
   "cell_type": "code",
   "execution_count": 32,
   "id": "29602372",
   "metadata": {},
   "outputs": [
    {
     "name": "stdout",
     "output_type": "stream",
     "text": [
      "+-----------------------+----------------------+\n",
      "| parent_salary         |   phi(parent_salary) |\n",
      "+=======================+======================+\n",
      "| parent_salary(High)   |               0.0630 |\n",
      "+-----------------------+----------------------+\n",
      "| parent_salary(Low)    |               0.0000 |\n",
      "+-----------------------+----------------------+\n",
      "| parent_salary(Medium) |               0.9370 |\n",
      "+-----------------------+----------------------+\n"
     ]
    }
   ],
   "source": [
    "q_ev3 = vel_inference.query(['parent_salary'],{'house_area':'Small', 'school_accreditation':'B'}, show_progress=False)\n",
    "\n",
    "print(q_ev3)"
   ]
  },
  {
   "cell_type": "markdown",
   "id": "2af6ecd8",
   "metadata": {},
   "source": [
    "Type of school"
   ]
  },
  {
   "cell_type": "code",
   "execution_count": 33,
   "id": "800652c9",
   "metadata": {},
   "outputs": [
    {
     "name": "stdout",
     "output_type": "stream",
     "text": [
      "+-------------------------+--------------------+\n",
      "| type_school             |   phi(type_school) |\n",
      "+=========================+====================+\n",
      "| type_school(Academic)   |             0.7199 |\n",
      "+-------------------------+--------------------+\n",
      "| type_school(Vocational) |             0.2801 |\n",
      "+-------------------------+--------------------+\n"
     ]
    }
   ],
   "source": [
    "q_ev5 = vel_inference.query(['type_school'],{'residence':'Urban'}, show_progress=False)\n",
    "\n",
    "print(q_ev5)"
   ]
  },
  {
   "cell_type": "code",
   "execution_count": 34,
   "id": "81ed92c8",
   "metadata": {},
   "outputs": [
    {
     "name": "stdout",
     "output_type": "stream",
     "text": [
      "+-------------------------+--------------------+\n",
      "| type_school             |   phi(type_school) |\n",
      "+=========================+====================+\n",
      "| type_school(Academic)   |             0.4794 |\n",
      "+-------------------------+--------------------+\n",
      "| type_school(Vocational) |             0.5206 |\n",
      "+-------------------------+--------------------+\n"
     ]
    }
   ],
   "source": [
    "q_ev5 = vel_inference.query(['type_school'],{'residence':'Rural'}, show_progress=False)\n",
    "\n",
    "print(q_ev5)"
   ]
  },
  {
   "cell_type": "markdown",
   "id": "65a8a3b1",
   "metadata": {},
   "source": [
    "#### Intercausal"
   ]
  },
  {
   "cell_type": "code",
   "execution_count": 35,
   "id": "069c3853",
   "metadata": {},
   "outputs": [
    {
     "name": "stdout",
     "output_type": "stream",
     "text": [
      "+-------------------------+--------------------+\n",
      "| type_school             |   phi(type_school) |\n",
      "+=========================+====================+\n",
      "| type_school(Academic)   |             0.0801 |\n",
      "+-------------------------+--------------------+\n",
      "| type_school(Vocational) |             0.9199 |\n",
      "+-------------------------+--------------------+\n"
     ]
    }
   ],
   "source": [
    "q_inter1 = vel_inference.query(['type_school'],{'will_go_to_college':0, 'average_grades':'95+'}, show_progress=False)\n",
    "\n",
    "print(q_inter1)"
   ]
  },
  {
   "cell_type": "code",
   "execution_count": 36,
   "id": "73e003d8",
   "metadata": {},
   "outputs": [
    {
     "name": "stdout",
     "output_type": "stream",
     "text": [
      "+---------------------------+-----------------+\n",
      "| interest                  |   phi(interest) |\n",
      "+===========================+=================+\n",
      "| interest(Interested)      |          0.0000 |\n",
      "+---------------------------+-----------------+\n",
      "| interest(Less Interested) |          0.0000 |\n",
      "+---------------------------+-----------------+\n",
      "| interest(Not Interested)  |          0.0930 |\n",
      "+---------------------------+-----------------+\n",
      "| interest(Uncertain)       |          0.7702 |\n",
      "+---------------------------+-----------------+\n",
      "| interest(Very Interested) |          0.1367 |\n",
      "+---------------------------+-----------------+\n"
     ]
    }
   ],
   "source": [
    "q_inter1 = vel_inference.query(['interest'],{'will_go_to_college':0, 'average_grades':'95+'}, show_progress=False)\n",
    "\n",
    "print(q_inter1)"
   ]
  },
  {
   "cell_type": "code",
   "execution_count": 37,
   "id": "2243a3b4",
   "metadata": {},
   "outputs": [
    {
     "name": "stdout",
     "output_type": "stream",
     "text": [
      "+-----------------------+----------------------+\n",
      "| parent_salary         |   phi(parent_salary) |\n",
      "+=======================+======================+\n",
      "| parent_salary(High)   |               0.7124 |\n",
      "+-----------------------+----------------------+\n",
      "| parent_salary(Low)    |               0.2876 |\n",
      "+-----------------------+----------------------+\n",
      "| parent_salary(Medium) |               0.0000 |\n",
      "+-----------------------+----------------------+\n"
     ]
    }
   ],
   "source": [
    "q_inter1 = vel_inference.query(['parent_salary'],{'will_go_to_college':0,\n",
    "                                                  'average_grades':'95+',\n",
    "                                                  'interest':'Very Interested',\n",
    "                                                  'type_school':'Academic'}, show_progress=False)\n",
    "\n",
    "print(q_inter1)"
   ]
  },
  {
   "cell_type": "markdown",
   "id": "56b96e30",
   "metadata": {},
   "source": [
    "#### Order of Variable Elimination"
   ]
  },
  {
   "cell_type": "code",
   "execution_count": 38,
   "id": "fda93d8f",
   "metadata": {},
   "outputs": [
    {
     "name": "stdout",
     "output_type": "stream",
     "text": [
      "['parent_was_in_college', 'school_accreditation', 'residence', 'parent_age', 'house_area', 'average_grades']\n",
      "['school_accreditation', 'house_area', 'parent_was_in_college', 'parent_age', 'residence', 'average_grades']\n",
      "['school_accreditation', 'house_area', 'residence', 'parent_age', 'parent_was_in_college', 'average_grades']\n",
      "['school_accreditation', 'house_area', 'residence', 'parent_age', 'parent_was_in_college', 'average_grades']\n"
     ]
    }
   ],
   "source": [
    "print(vel_inference._get_elimination_order(variables=['will_go_to_college'],\n",
    "                                           evidence={'parent_salary':'Medium',\n",
    "                                                     'type_school':'Academic',\n",
    "                                                     'interest':'Interested'},\n",
    "                                           elimination_order=\"MinFill\",\n",
    "                                           show_progress=False))\n",
    "\n",
    "print(vel_inference._get_elimination_order(variables=['will_go_to_college'],\n",
    "                                           evidence={'parent_salary':'Medium',\n",
    "                                                     'type_school':'Academic',\n",
    "                                                     'interest':'Interested'},\n",
    "                                           elimination_order=\"MinNeighbors\",\n",
    "                                           show_progress=False))\n",
    "\n",
    "print(vel_inference._get_elimination_order(variables=['will_go_to_college'],\n",
    "                                           evidence={'parent_salary':'Medium',\n",
    "                                                     'type_school':'Academic',\n",
    "                                                     'interest':'Interested'},\n",
    "                                           elimination_order=\"MinWeight\",\n",
    "                                           show_progress=False))\n",
    "\n",
    "print(vel_inference._get_elimination_order(variables=['will_go_to_college'],\n",
    "                                           evidence={'parent_salary':'Medium',\n",
    "                                                     'type_school':'Academic',\n",
    "                                                     'interest':'Interested'},\n",
    "                                           elimination_order=\"WeightedMinFill\", \n",
    "                                           show_progress=False))"
   ]
  },
  {
   "cell_type": "code",
   "execution_count": 39,
   "id": "0e2f05b2",
   "metadata": {},
   "outputs": [
    {
     "name": "stdout",
     "output_type": "stream",
     "text": [
      "+---------------------------+---------------------------+\n",
      "| will_go_to_college        |   phi(will_go_to_college) |\n",
      "+===========================+===========================+\n",
      "| will_go_to_college(False) |                    0.8488 |\n",
      "+---------------------------+---------------------------+\n",
      "| will_go_to_college(True)  |                    0.1512 |\n",
      "+---------------------------+---------------------------+\n",
      "Elimination order: MinFill\n",
      "Query executed in 0.00899363 seconds\n",
      "\n",
      "+---------------------------+---------------------------+\n",
      "| will_go_to_college        |   phi(will_go_to_college) |\n",
      "+===========================+===========================+\n",
      "| will_go_to_college(False) |                    0.8488 |\n",
      "+---------------------------+---------------------------+\n",
      "| will_go_to_college(True)  |                    0.1512 |\n",
      "+---------------------------+---------------------------+\n",
      "Elimination order: MinNeighbors\n",
      "Query executed in 0.00899053 seconds\n",
      "\n",
      "+---------------------------+---------------------------+\n",
      "| will_go_to_college        |   phi(will_go_to_college) |\n",
      "+===========================+===========================+\n",
      "| will_go_to_college(False) |                    0.8488 |\n",
      "+---------------------------+---------------------------+\n",
      "| will_go_to_college(True)  |                    0.1512 |\n",
      "+---------------------------+---------------------------+\n",
      "Elimination order: MinWeight\n",
      "Query executed in 0.00599337 seconds\n",
      "\n",
      "+---------------------------+---------------------------+\n",
      "| will_go_to_college        |   phi(will_go_to_college) |\n",
      "+===========================+===========================+\n",
      "| will_go_to_college(False) |                    0.8488 |\n",
      "+---------------------------+---------------------------+\n",
      "| will_go_to_college(True)  |                    0.1512 |\n",
      "+---------------------------+---------------------------+\n",
      "Elimination order: WeightedMinFill\n",
      "Query executed in 0.00601268 seconds\n",
      "\n"
     ]
    }
   ],
   "source": [
    "import time\n",
    "\n",
    "elimination_orders = [\"MinFill\",\"MinNeighbors\",\"MinWeight\",\"WeightedMinFill\"]\n",
    "\n",
    "for el in elimination_orders:\n",
    "    \n",
    "    start_time = time.time()\n",
    "    \n",
    "    query = vel_inference.query([\"will_go_to_college\"],\n",
    "                                {'parent_salary':'Medium',\n",
    "                                 'type_school':'Academic',\n",
    "                                 'interest':'Interested'}, \n",
    "                                elimination_order=el,\n",
    "                                show_progress=False)\n",
    "    \n",
    "    print(query)\n",
    "    \n",
    "    print('Elimination order: {}'.format(el))\n",
    "    \n",
    "    print(f'Query executed in {time.time() - start_time:0,.8f} seconds\\n')"
   ]
  },
  {
   "cell_type": "markdown",
   "id": "d4a0b1f2",
   "metadata": {},
   "source": [
    "### Approximate Inference"
   ]
  },
  {
   "cell_type": "markdown",
   "id": "ee6e42f6",
   "metadata": {},
   "source": [
    "//PACCO 4\n",
    "- Approximate inference\n",
    "  - Rejection sampling (caso base)\n",
    "  - Likelihood weighting (come 1 ma usando dei pesi)\n",
    "  - Markov chain Monte Carlo (NOPE)"
   ]
  },
  {
   "cell_type": "markdown",
   "id": "890d7d8f",
   "metadata": {},
   "source": [
    "#### Causal"
   ]
  },
  {
   "cell_type": "code",
   "execution_count": 102,
   "id": "e68b1a07",
   "metadata": {},
   "outputs": [
    {
     "name": "stdout",
     "output_type": "stream",
     "text": [
      "+---------------------------+---------------------------+\n",
      "| will_go_to_college        |   phi(will_go_to_college) |\n",
      "+===========================+===========================+\n",
      "| will_go_to_college(False) |                    0.4581 |\n",
      "+---------------------------+---------------------------+\n",
      "| will_go_to_college(True)  |                    0.5419 |\n",
      "+---------------------------+---------------------------+\n"
     ]
    }
   ],
   "source": [
    "from pgmpy.inference import ApproxInference\n",
    "from pgmpy.sampling import BayesianModelSampling\n",
    "\n",
    "rej_inference = ApproxInference(model)\n",
    "bay_inference = BayesianModelSampling(model)\n",
    "\n",
    "# query la usiamo per fare sampling from an empty network - per query senza evidenza (solo nell'Approx Inference)\n",
    "q_rej1 = rej_inference.query(['will_go_to_college'], show_progress=False)\n",
    "\n",
    "#rejection samplig, tipo di sampling usato con get_distribution \n",
    "#likelyhood weigthing, altro tipo di sampling, usato con get_distribution\n",
    "\n",
    "print(q_rej1)"
   ]
  },
  {
   "cell_type": "code",
   "execution_count": 93,
   "id": "c6f9312d",
   "metadata": {},
   "outputs": [
    {
     "data": {
      "application/vnd.jupyter.widget-view+json": {
       "model_id": "c552f8cc759040f5b41758b6cd0febf4",
       "version_major": 2,
       "version_minor": 0
      },
      "text/plain": [
       "  0%|          | 0/10 [00:00<?, ?it/s]"
      ]
     },
     "metadata": {},
     "output_type": "display_data"
    },
    {
     "name": "stdout",
     "output_type": "stream",
     "text": [
      "   parent_was_in_college parent_salary parent_age school_accreditation  \\\n",
      "0                   True        Medium      50-55                    B   \n",
      "1                  False        Medium      55-60                    A   \n",
      "2                   True        Medium      45-50                    B   \n",
      "3                  False        Medium      50-55                    B   \n",
      "4                   True        Medium      50-55                    B   \n",
      "\n",
      "  house_area  will_go_to_college residence type_school average_grades  \\\n",
      "0     Medium                True     Rural    Academic        85 - 95   \n",
      "1      Small                True     Rural  Vocational        75 - 85   \n",
      "2     Medium                True     Urban  Vocational        85 - 95   \n",
      "3     Medium               False     Rural  Vocational        75 - 85   \n",
      "4     Medium                True     Rural    Academic        75 - 85   \n",
      "\n",
      "          interest  _weight  \n",
      "0   Not Interested      1.0  \n",
      "1   Not Interested      1.0  \n",
      "2  Less Interested      1.0  \n",
      "3        Uncertain      1.0  \n",
      "4       Interested      1.0  \n"
     ]
    }
   ],
   "source": [
    "print(bay_inference.likelihood_weighted_sample(size=5))\n",
    "#print(bay_inference.rejection_sample(size=5))"
   ]
  },
  {
   "cell_type": "code",
   "execution_count": 101,
   "id": "2ce1f964",
   "metadata": {},
   "outputs": [
    {
     "name": "stdout",
     "output_type": "stream",
     "text": [
      "+---------------------------+---------------------------+\n",
      "| will_go_to_college        |   phi(will_go_to_college) |\n",
      "+===========================+===========================+\n",
      "| will_go_to_college(False) |                    0.4290 |\n",
      "+---------------------------+---------------------------+\n",
      "| will_go_to_college(True)  |                    0.5710 |\n",
      "+---------------------------+---------------------------+\n"
     ]
    }
   ],
   "source": [
    "print(rej_inference.get_distribution(bay_inference.likelihood_weighted_sample(size=1000, show_progress=False), ['will_go_to_college']))"
   ]
  },
  {
   "cell_type": "code",
   "execution_count": 68,
   "id": "98dc2bbd",
   "metadata": {},
   "outputs": [
    {
     "name": "stdout",
     "output_type": "stream",
     "text": [
      "+---------------------------+---------------------------+\n",
      "| will_go_to_college        |   phi(will_go_to_college) |\n",
      "+===========================+===========================+\n",
      "| will_go_to_college(False) |                    0.3397 |\n",
      "+---------------------------+---------------------------+\n",
      "| will_go_to_college(True)  |                    0.6603 |\n",
      "+---------------------------+---------------------------+\n"
     ]
    }
   ],
   "source": [
    "q_2 = rej_inference.query(['will_go_to_college'], 10000, {'interest':'Not Interested'}, show_progress=False)\n",
    "\n",
    "print(q_2)"
   ]
  },
  {
   "cell_type": "code",
   "execution_count": 70,
   "id": "7e727b8a",
   "metadata": {},
   "outputs": [
    {
     "name": "stdout",
     "output_type": "stream",
     "text": [
      "+---------------------------+---------------------------+\n",
      "| will_go_to_college        |   phi(will_go_to_college) |\n",
      "+===========================+===========================+\n",
      "| will_go_to_college(False) |                    0.5290 |\n",
      "+---------------------------+---------------------------+\n",
      "| will_go_to_college(True)  |                    0.4710 |\n",
      "+---------------------------+---------------------------+\n"
     ]
    }
   ],
   "source": [
    "q_3 = rej_inference.query(['will_go_to_college'], 1000, {'interest':'Less Interested'}, show_progress=False)\n",
    "\n",
    "print(q_3)"
   ]
  },
  {
   "cell_type": "code",
   "execution_count": 69,
   "id": "46755470",
   "metadata": {},
   "outputs": [
    {
     "name": "stdout",
     "output_type": "stream",
     "text": [
      "+---------------------------+---------------------------+\n",
      "| will_go_to_college        |   phi(will_go_to_college) |\n",
      "+===========================+===========================+\n",
      "| will_go_to_college(False) |                    0.9260 |\n",
      "+---------------------------+---------------------------+\n",
      "| will_go_to_college(True)  |                    0.0740 |\n",
      "+---------------------------+---------------------------+\n"
     ]
    }
   ],
   "source": [
    "q_4 = rej_inference.query(['will_go_to_college'], 1000, {'interest':'Not Interested', 'parent_salary':'Low'}, show_progress=False)\n",
    "\n",
    "print(q_4)"
   ]
  },
  {
   "cell_type": "markdown",
   "id": "86eb8641",
   "metadata": {},
   "source": [
    "#### Evidential"
   ]
  },
  {
   "cell_type": "code",
   "execution_count": 75,
   "id": "b740a47b",
   "metadata": {},
   "outputs": [
    {
     "name": "stdout",
     "output_type": "stream",
     "text": [
      "+-------------------------+-----------------------+\n",
      "| average_grades          |   phi(average_grades) |\n",
      "+=========================+=======================+\n",
      "| average_grades(75 - 85) |                0.2531 |\n",
      "+-------------------------+-----------------------+\n",
      "| average_grades(85 - 95) |                0.7314 |\n",
      "+-------------------------+-----------------------+\n",
      "| average_grades(95+)     |                0.0156 |\n",
      "+-------------------------+-----------------------+\n"
     ]
    }
   ],
   "source": [
    "q_1 = rej_inference.query(['average_grades'], 100000, {'will_go_to_college':1}, show_progress=False)\n",
    "\n",
    "print(q_1)"
   ]
  },
  {
   "cell_type": "code",
   "execution_count": 76,
   "id": "7d7f1f1e",
   "metadata": {},
   "outputs": [
    {
     "name": "stdout",
     "output_type": "stream",
     "text": [
      "+-------------------------+-----------------------+\n",
      "| average_grades          |   phi(average_grades) |\n",
      "+=========================+=======================+\n",
      "| average_grades(75 - 85) |                0.6265 |\n",
      "+-------------------------+-----------------------+\n",
      "| average_grades(85 - 95) |                0.3705 |\n",
      "+-------------------------+-----------------------+\n",
      "| average_grades(95+)     |                0.0030 |\n",
      "+-------------------------+-----------------------+\n"
     ]
    }
   ],
   "source": [
    "q_2 = rej_inference.query(['average_grades'], 10000, {'will_go_to_college':0}, show_progress=False)\n",
    "\n",
    "print(q_2)"
   ]
  },
  {
   "cell_type": "code",
   "execution_count": 80,
   "id": "16adb45d",
   "metadata": {},
   "outputs": [
    {
     "name": "stdout",
     "output_type": "stream",
     "text": [
      "+-----------------------+----------------------+\n",
      "| parent_salary         |   phi(parent_salary) |\n",
      "+=======================+======================+\n",
      "| parent_salary(High)   |               0.1448 |\n",
      "+-----------------------+----------------------+\n",
      "| parent_salary(Low)    |               0.0522 |\n",
      "+-----------------------+----------------------+\n",
      "| parent_salary(Medium) |               0.8030 |\n",
      "+-----------------------+----------------------+\n"
     ]
    }
   ],
   "source": [
    "q_ev3 = rej_inference.query(['parent_salary'], 10000, {'house_area':'Medium', 'school_accreditation':'B'}, show_progress=False)\n",
    "\n",
    "print(q_ev3)"
   ]
  },
  {
   "cell_type": "code",
   "execution_count": 81,
   "id": "80457672",
   "metadata": {},
   "outputs": [
    {
     "name": "stdout",
     "output_type": "stream",
     "text": [
      "+-----------------------+----------------------+\n",
      "| parent_salary         |   phi(parent_salary) |\n",
      "+=======================+======================+\n",
      "| parent_salary(High)   |               0.1596 |\n",
      "+-----------------------+----------------------+\n",
      "| parent_salary(Low)    |               0.0384 |\n",
      "+-----------------------+----------------------+\n",
      "| parent_salary(Medium) |               0.8020 |\n",
      "+-----------------------+----------------------+\n"
     ]
    }
   ],
   "source": [
    "q_ev3 = rej_inference.query(['parent_salary'], 10000, {'house_area':'Big', 'school_accreditation':'B'}, show_progress=False)\n",
    "\n",
    "print(q_ev3)"
   ]
  },
  {
   "cell_type": "code",
   "execution_count": 83,
   "id": "74f6e982",
   "metadata": {},
   "outputs": [
    {
     "name": "stdout",
     "output_type": "stream",
     "text": [
      "+-----------------------+----------------------+\n",
      "| parent_salary         |   phi(parent_salary) |\n",
      "+=======================+======================+\n",
      "| parent_salary(High)   |               0.0632 |\n",
      "+-----------------------+----------------------+\n",
      "| parent_salary(Medium) |               0.9368 |\n",
      "+-----------------------+----------------------+\n"
     ]
    }
   ],
   "source": [
    "q_ev3 = rej_inference.query(['parent_salary'], 10000, {'house_area':'Small', 'school_accreditation':'B'}, show_progress=False)\n",
    "\n",
    "print(q_ev3)"
   ]
  },
  {
   "cell_type": "code",
   "execution_count": 85,
   "id": "51242784",
   "metadata": {},
   "outputs": [
    {
     "name": "stdout",
     "output_type": "stream",
     "text": [
      "+-------------------------+--------------------+\n",
      "| type_school             |   phi(type_school) |\n",
      "+=========================+====================+\n",
      "| type_school(Academic)   |             0.7216 |\n",
      "+-------------------------+--------------------+\n",
      "| type_school(Vocational) |             0.2784 |\n",
      "+-------------------------+--------------------+\n"
     ]
    }
   ],
   "source": [
    "q_ev5 = rej_inference.query(['type_school'], 10000, {'residence':'Urban'}, show_progress=False)\n",
    "\n",
    "print(q_ev5)"
   ]
  },
  {
   "cell_type": "code",
   "execution_count": 87,
   "id": "8e9ec64f",
   "metadata": {},
   "outputs": [
    {
     "name": "stdout",
     "output_type": "stream",
     "text": [
      "+-------------------------+--------------------+\n",
      "| type_school             |   phi(type_school) |\n",
      "+=========================+====================+\n",
      "| type_school(Academic)   |             0.4805 |\n",
      "+-------------------------+--------------------+\n",
      "| type_school(Vocational) |             0.5195 |\n",
      "+-------------------------+--------------------+\n"
     ]
    }
   ],
   "source": [
    "q_ev5 = rej_inference.query(['type_school'], 10000, {'residence':'Rural'}, show_progress=False)\n",
    "\n",
    "print(q_ev5)"
   ]
  },
  {
   "cell_type": "markdown",
   "id": "a5c65c8f",
   "metadata": {},
   "source": [
    "DA FARE\n",
    "\n",
    "get_markov_blanket(NODO)\n",
    "\n",
    "FAI GRAFICI PER UNA QUERY CON SAMPLES CRESCENTI DI CICLO IN CICLO"
   ]
  }
 ],
 "metadata": {
  "kernelspec": {
   "display_name": "Python 3 (ipykernel)",
   "language": "python",
   "name": "python3"
  },
  "language_info": {
   "codemirror_mode": {
    "name": "ipython",
    "version": 3
   },
   "file_extension": ".py",
   "mimetype": "text/x-python",
   "name": "python",
   "nbconvert_exporter": "python",
   "pygments_lexer": "ipython3",
   "version": "3.9.6"
  }
 },
 "nbformat": 4,
 "nbformat_minor": 5
}
