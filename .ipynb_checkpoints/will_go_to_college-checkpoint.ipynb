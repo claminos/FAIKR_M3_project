{
 "cells": [
  {
   "cell_type": "markdown",
   "id": "fe6afdb8",
   "metadata": {},
   "source": [
    "# Indonesian student's potential to go to college"
   ]
  },
  {
   "cell_type": "markdown",
   "id": "f80f7a2b",
   "metadata": {},
   "source": [
    "The following notebook explores indonesian high school student data related to the decision to go to college.\n",
    "<br>\n",
    "<br>\n",
    "We used the [Go To College Dataset](https://www.kaggle.com/datasets/saddamazyazy/go-to-college-dataset) due to its high usability and high number of upvotes. This data is made based on high school condition in Indonesia and contains 11 columns. Here's some explanation for each column, provided by the dataset's creator:"
   ]
  },
  {
   "cell_type": "markdown",
   "id": "8342edf9",
   "metadata": {},
   "source": [
    "- `type_school`: the type of high school (student age 15-18) that the student attends. There are two types of high school here: vocational high school and academic high school. The basic difference between these two is theory versus practice. An academic school generally teaches theoretical knowledge and broad-based research skills, while a vocational school teaches hands-on, applied skills such as carpentry, auto mechanics and hairdressing. Students choose vocational high school usually because they want to quickly get job\n",
    "- `school_accreditation`: the quality of school. A is the best, followed by B and C\n",
    "- `gender`: student gender\n",
    "- `interest`: student interest to go to college\n",
    "- `residence`: the type of residence (urban or rural)\n",
    "- `parent_age`: parent age\n",
    "- `parent_salary`: parent salary per month in IDR/Indonesian Rupiah\n",
    "- `house_area`: parent house area in meter square (m$^2$)\n",
    "- `average_grades`: the average of high school grades in scale of 0-100\n",
    "- `parent_was_in_college`: parent's attendance to college\n",
    "- `will_go_to_college`: did the student actually go to college or not"
   ]
  },
  {
   "cell_type": "markdown",
   "id": "6edbb23f",
   "metadata": {},
   "source": [
    "Let's import the dataset and give a quick look to the data"
   ]
  },
  {
   "cell_type": "code",
   "execution_count": 1,
   "id": "6ed73a6c",
   "metadata": {
    "scrolled": true
   },
   "outputs": [
    {
     "data": {
      "text/html": [
       "<div>\n",
       "<style scoped>\n",
       "    .dataframe tbody tr th:only-of-type {\n",
       "        vertical-align: middle;\n",
       "    }\n",
       "\n",
       "    .dataframe tbody tr th {\n",
       "        vertical-align: top;\n",
       "    }\n",
       "\n",
       "    .dataframe thead th {\n",
       "        text-align: right;\n",
       "    }\n",
       "</style>\n",
       "<table border=\"1\" class=\"dataframe\">\n",
       "  <thead>\n",
       "    <tr style=\"text-align: right;\">\n",
       "      <th></th>\n",
       "      <th>type_school</th>\n",
       "      <th>school_accreditation</th>\n",
       "      <th>gender</th>\n",
       "      <th>interest</th>\n",
       "      <th>residence</th>\n",
       "      <th>parent_age</th>\n",
       "      <th>parent_salary</th>\n",
       "      <th>house_area</th>\n",
       "      <th>average_grades</th>\n",
       "      <th>parent_was_in_college</th>\n",
       "      <th>will_go_to_college</th>\n",
       "    </tr>\n",
       "  </thead>\n",
       "  <tbody>\n",
       "    <tr>\n",
       "      <th>0</th>\n",
       "      <td>Academic</td>\n",
       "      <td>A</td>\n",
       "      <td>Male</td>\n",
       "      <td>Less Interested</td>\n",
       "      <td>Urban</td>\n",
       "      <td>56</td>\n",
       "      <td>6950000</td>\n",
       "      <td>83.0</td>\n",
       "      <td>84.09</td>\n",
       "      <td>False</td>\n",
       "      <td>True</td>\n",
       "    </tr>\n",
       "    <tr>\n",
       "      <th>1</th>\n",
       "      <td>Academic</td>\n",
       "      <td>A</td>\n",
       "      <td>Male</td>\n",
       "      <td>Less Interested</td>\n",
       "      <td>Urban</td>\n",
       "      <td>57</td>\n",
       "      <td>4410000</td>\n",
       "      <td>76.8</td>\n",
       "      <td>86.91</td>\n",
       "      <td>False</td>\n",
       "      <td>True</td>\n",
       "    </tr>\n",
       "    <tr>\n",
       "      <th>2</th>\n",
       "      <td>Academic</td>\n",
       "      <td>B</td>\n",
       "      <td>Female</td>\n",
       "      <td>Very Interested</td>\n",
       "      <td>Urban</td>\n",
       "      <td>50</td>\n",
       "      <td>6500000</td>\n",
       "      <td>80.6</td>\n",
       "      <td>87.43</td>\n",
       "      <td>False</td>\n",
       "      <td>True</td>\n",
       "    </tr>\n",
       "    <tr>\n",
       "      <th>3</th>\n",
       "      <td>Vocational</td>\n",
       "      <td>B</td>\n",
       "      <td>Male</td>\n",
       "      <td>Very Interested</td>\n",
       "      <td>Rural</td>\n",
       "      <td>49</td>\n",
       "      <td>6600000</td>\n",
       "      <td>78.2</td>\n",
       "      <td>82.12</td>\n",
       "      <td>True</td>\n",
       "      <td>True</td>\n",
       "    </tr>\n",
       "    <tr>\n",
       "      <th>4</th>\n",
       "      <td>Academic</td>\n",
       "      <td>A</td>\n",
       "      <td>Female</td>\n",
       "      <td>Very Interested</td>\n",
       "      <td>Urban</td>\n",
       "      <td>57</td>\n",
       "      <td>5250000</td>\n",
       "      <td>75.1</td>\n",
       "      <td>86.79</td>\n",
       "      <td>False</td>\n",
       "      <td>False</td>\n",
       "    </tr>\n",
       "  </tbody>\n",
       "</table>\n",
       "</div>"
      ],
      "text/plain": [
       "  type_school school_accreditation  gender         interest residence  \\\n",
       "0    Academic                    A    Male  Less Interested     Urban   \n",
       "1    Academic                    A    Male  Less Interested     Urban   \n",
       "2    Academic                    B  Female  Very Interested     Urban   \n",
       "3  Vocational                    B    Male  Very Interested     Rural   \n",
       "4    Academic                    A  Female  Very Interested     Urban   \n",
       "\n",
       "   parent_age  parent_salary  house_area  average_grades  \\\n",
       "0          56        6950000        83.0           84.09   \n",
       "1          57        4410000        76.8           86.91   \n",
       "2          50        6500000        80.6           87.43   \n",
       "3          49        6600000        78.2           82.12   \n",
       "4          57        5250000        75.1           86.79   \n",
       "\n",
       "   parent_was_in_college  will_go_to_college  \n",
       "0                  False                True  \n",
       "1                  False                True  \n",
       "2                  False                True  \n",
       "3                   True                True  \n",
       "4                  False               False  "
      ]
     },
     "execution_count": 1,
     "metadata": {},
     "output_type": "execute_result"
    }
   ],
   "source": [
    "import pandas as pd\n",
    "import numpy as np\n",
    "import matplotlib.pyplot as plt\n",
    "import seaborn as sns\n",
    "#import time\n",
    "\n",
    "df = pd.read_csv(\"./data.csv\")\n",
    "df.head()"
   ]
  },
  {
   "cell_type": "markdown",
   "id": "3753c793",
   "metadata": {},
   "source": [
    "Modifichiamo il nome della colonna `will_go_to_college` in `in_college` per restare coerenti con la descrizione dell'attributo (lo studente è andato al college, non è che ci andrà)"
   ]
  },
  {
   "cell_type": "code",
   "execution_count": 2,
   "id": "e607252c",
   "metadata": {},
   "outputs": [
    {
     "data": {
      "text/html": [
       "<div>\n",
       "<style scoped>\n",
       "    .dataframe tbody tr th:only-of-type {\n",
       "        vertical-align: middle;\n",
       "    }\n",
       "\n",
       "    .dataframe tbody tr th {\n",
       "        vertical-align: top;\n",
       "    }\n",
       "\n",
       "    .dataframe thead th {\n",
       "        text-align: right;\n",
       "    }\n",
       "</style>\n",
       "<table border=\"1\" class=\"dataframe\">\n",
       "  <thead>\n",
       "    <tr style=\"text-align: right;\">\n",
       "      <th></th>\n",
       "      <th>type_school</th>\n",
       "      <th>school_accreditation</th>\n",
       "      <th>gender</th>\n",
       "      <th>interest</th>\n",
       "      <th>residence</th>\n",
       "      <th>parent_age</th>\n",
       "      <th>parent_salary</th>\n",
       "      <th>house_area</th>\n",
       "      <th>average_grades</th>\n",
       "      <th>parent_was_in_college</th>\n",
       "      <th>in_college</th>\n",
       "    </tr>\n",
       "  </thead>\n",
       "  <tbody>\n",
       "    <tr>\n",
       "      <th>0</th>\n",
       "      <td>Academic</td>\n",
       "      <td>A</td>\n",
       "      <td>Male</td>\n",
       "      <td>Less Interested</td>\n",
       "      <td>Urban</td>\n",
       "      <td>56</td>\n",
       "      <td>6950000</td>\n",
       "      <td>83.0</td>\n",
       "      <td>84.09</td>\n",
       "      <td>False</td>\n",
       "      <td>True</td>\n",
       "    </tr>\n",
       "    <tr>\n",
       "      <th>1</th>\n",
       "      <td>Academic</td>\n",
       "      <td>A</td>\n",
       "      <td>Male</td>\n",
       "      <td>Less Interested</td>\n",
       "      <td>Urban</td>\n",
       "      <td>57</td>\n",
       "      <td>4410000</td>\n",
       "      <td>76.8</td>\n",
       "      <td>86.91</td>\n",
       "      <td>False</td>\n",
       "      <td>True</td>\n",
       "    </tr>\n",
       "    <tr>\n",
       "      <th>2</th>\n",
       "      <td>Academic</td>\n",
       "      <td>B</td>\n",
       "      <td>Female</td>\n",
       "      <td>Very Interested</td>\n",
       "      <td>Urban</td>\n",
       "      <td>50</td>\n",
       "      <td>6500000</td>\n",
       "      <td>80.6</td>\n",
       "      <td>87.43</td>\n",
       "      <td>False</td>\n",
       "      <td>True</td>\n",
       "    </tr>\n",
       "    <tr>\n",
       "      <th>3</th>\n",
       "      <td>Vocational</td>\n",
       "      <td>B</td>\n",
       "      <td>Male</td>\n",
       "      <td>Very Interested</td>\n",
       "      <td>Rural</td>\n",
       "      <td>49</td>\n",
       "      <td>6600000</td>\n",
       "      <td>78.2</td>\n",
       "      <td>82.12</td>\n",
       "      <td>True</td>\n",
       "      <td>True</td>\n",
       "    </tr>\n",
       "    <tr>\n",
       "      <th>4</th>\n",
       "      <td>Academic</td>\n",
       "      <td>A</td>\n",
       "      <td>Female</td>\n",
       "      <td>Very Interested</td>\n",
       "      <td>Urban</td>\n",
       "      <td>57</td>\n",
       "      <td>5250000</td>\n",
       "      <td>75.1</td>\n",
       "      <td>86.79</td>\n",
       "      <td>False</td>\n",
       "      <td>False</td>\n",
       "    </tr>\n",
       "  </tbody>\n",
       "</table>\n",
       "</div>"
      ],
      "text/plain": [
       "  type_school school_accreditation  gender         interest residence  \\\n",
       "0    Academic                    A    Male  Less Interested     Urban   \n",
       "1    Academic                    A    Male  Less Interested     Urban   \n",
       "2    Academic                    B  Female  Very Interested     Urban   \n",
       "3  Vocational                    B    Male  Very Interested     Rural   \n",
       "4    Academic                    A  Female  Very Interested     Urban   \n",
       "\n",
       "   parent_age  parent_salary  house_area  average_grades  \\\n",
       "0          56        6950000        83.0           84.09   \n",
       "1          57        4410000        76.8           86.91   \n",
       "2          50        6500000        80.6           87.43   \n",
       "3          49        6600000        78.2           82.12   \n",
       "4          57        5250000        75.1           86.79   \n",
       "\n",
       "   parent_was_in_college  in_college  \n",
       "0                  False        True  \n",
       "1                  False        True  \n",
       "2                  False        True  \n",
       "3                   True        True  \n",
       "4                  False       False  "
      ]
     },
     "execution_count": 2,
     "metadata": {},
     "output_type": "execute_result"
    }
   ],
   "source": [
    "df = df.rename(columns={\"will_go_to_college\": \"in_college\"})\n",
    "df.head()"
   ]
  },
  {
   "cell_type": "markdown",
   "id": "277953e2",
   "metadata": {},
   "source": [
    "It can be noticed that some variables need to be discretized so that they can be supported by `pgmpy`. To do so, we have to preprocess the data."
   ]
  },
  {
   "cell_type": "markdown",
   "id": "035dda72",
   "metadata": {},
   "source": [
    "## 1. Preprocessing"
   ]
  },
  {
   "cell_type": "markdown",
   "id": "d56c1482",
   "metadata": {},
   "source": [
    "The variables that has to be discretized are: `parent_salary`, `parent_age`, `house_area` and `average_grades`. For each one, we print out the minimum and maximum value to obtain a better distributions of the bins. Finally, we convert the obtained value to `str`."
   ]
  },
  {
   "cell_type": "markdown",
   "id": "a09a1335",
   "metadata": {},
   "source": [
    "Non abbiamo trovato papers sull'argomento ma abbiamo discretizzato secondo le informazioni fornite da diversi siti statistici. In particolare ciò che è scritto [qui](https://tradingeconomics.com/indonesia/minimum-wages)"
   ]
  },
  {
   "cell_type": "code",
   "execution_count": 3,
   "id": "bd07c18d",
   "metadata": {},
   "outputs": [
    {
     "name": "stdout",
     "output_type": "stream",
     "text": [
      "Min: 1000000\n",
      "Max: 10000000\n"
     ]
    }
   ],
   "source": [
    "# parent_salary\n",
    "print('Min:', np.min(df['parent_salary']))\n",
    "print('Max:', np.max(df['parent_salary']))"
   ]
  },
  {
   "cell_type": "code",
   "execution_count": 4,
   "id": "98d8bf65",
   "metadata": {},
   "outputs": [],
   "source": [
    "df['parent_salary'] = pd.cut(x=df['parent_salary'],\n",
    "                             bins=[np.min(df['parent_salary']),5000000,8000000,np.max(df['parent_salary'])],\n",
    "                             labels=[\"Low\", \"Medium\", \"High\"],\n",
    "                             include_lowest=True)\n",
    "\n",
    "df['parent_salary'] = df['parent_salary'].astype(str)"
   ]
  },
  {
   "cell_type": "code",
   "execution_count": 5,
   "id": "9cb5041a",
   "metadata": {},
   "outputs": [
    {
     "name": "stdout",
     "output_type": "stream",
     "text": [
      "Min: 40\n",
      "Max: 65\n"
     ]
    }
   ],
   "source": [
    "# parent_age\n",
    "print('Min:', np.min(df['parent_age']))\n",
    "print('Max:', np.max(df['parent_age']))"
   ]
  },
  {
   "cell_type": "code",
   "execution_count": 6,
   "id": "d7d3636b",
   "metadata": {},
   "outputs": [],
   "source": [
    "df['parent_age'] = pd.cut(x=df['parent_age'],\n",
    "                          bins=[np.min(df['parent_age']),45,50,55,60,np.max(df['parent_age'])],\n",
    "                          labels=[\"40-45\",\"45-50\", \"50-55\", \"55-60\", \"60-65\"],\n",
    "                          include_lowest=True)\n",
    "\n",
    "df['parent_age'] = df['parent_age'].astype(str)"
   ]
  },
  {
   "cell_type": "code",
   "execution_count": 7,
   "id": "3f2c6167",
   "metadata": {},
   "outputs": [
    {
     "name": "stdout",
     "output_type": "stream",
     "text": [
      "Min: 20.0\n",
      "Max: 120.0\n"
     ]
    }
   ],
   "source": [
    "# house_area\n",
    "print('Min:', np.min(df['house_area']))\n",
    "print('Max:', np.max(df['house_area']))"
   ]
  },
  {
   "cell_type": "code",
   "execution_count": 8,
   "id": "df903a57",
   "metadata": {},
   "outputs": [],
   "source": [
    "df['house_area'] = pd.cut(x=df['house_area'],\n",
    "                          bins=[np.min(df['house_area']),60,90,np.max(df['house_area'])],\n",
    "                          labels=[\"Small\",\"Medium\",\"Big\"],\n",
    "                          include_lowest=True)\n",
    "\n",
    "df['house_area'] = df['house_area'].astype(str)"
   ]
  },
  {
   "cell_type": "code",
   "execution_count": 9,
   "id": "97ce77ef",
   "metadata": {},
   "outputs": [
    {
     "name": "stdout",
     "output_type": "stream",
     "text": [
      "Min: 75.0\n",
      "Max: 98.0\n"
     ]
    }
   ],
   "source": [
    "# average_grades\n",
    "print('Min:', np.min(df['average_grades']))\n",
    "print('Max:', np.max(df['average_grades']))"
   ]
  },
  {
   "cell_type": "code",
   "execution_count": 11,
   "id": "bc53f22a",
   "metadata": {},
   "outputs": [],
   "source": [
    "df['average_grades'] = pd.cut(x=df['average_grades'],\n",
    "                              bins=[np.min(df['average_grades']),85,95,np.max(df['average_grades'])],\n",
    "                              labels=['75 - 85','85 - 95','95+'],\n",
    "                              include_lowest=True)\n",
    "\n",
    "df['average_grades'] = df['average_grades'].astype(str)"
   ]
  },
  {
   "cell_type": "markdown",
   "id": "9857cbe6",
   "metadata": {},
   "source": [
    "Osserviamo i risultati della discretizzazione."
   ]
  },
  {
   "cell_type": "code",
   "execution_count": 12,
   "id": "5524ba4f",
   "metadata": {},
   "outputs": [
    {
     "data": {
      "text/html": [
       "<div>\n",
       "<style scoped>\n",
       "    .dataframe tbody tr th:only-of-type {\n",
       "        vertical-align: middle;\n",
       "    }\n",
       "\n",
       "    .dataframe tbody tr th {\n",
       "        vertical-align: top;\n",
       "    }\n",
       "\n",
       "    .dataframe thead th {\n",
       "        text-align: right;\n",
       "    }\n",
       "</style>\n",
       "<table border=\"1\" class=\"dataframe\">\n",
       "  <thead>\n",
       "    <tr style=\"text-align: right;\">\n",
       "      <th></th>\n",
       "      <th>type_school</th>\n",
       "      <th>school_accreditation</th>\n",
       "      <th>gender</th>\n",
       "      <th>interest</th>\n",
       "      <th>residence</th>\n",
       "      <th>parent_age</th>\n",
       "      <th>parent_salary</th>\n",
       "      <th>house_area</th>\n",
       "      <th>average_grades</th>\n",
       "      <th>parent_was_in_college</th>\n",
       "      <th>in_college</th>\n",
       "    </tr>\n",
       "  </thead>\n",
       "  <tbody>\n",
       "    <tr>\n",
       "      <th>0</th>\n",
       "      <td>Academic</td>\n",
       "      <td>A</td>\n",
       "      <td>Male</td>\n",
       "      <td>Less Interested</td>\n",
       "      <td>Urban</td>\n",
       "      <td>55-60</td>\n",
       "      <td>Medium</td>\n",
       "      <td>Medium</td>\n",
       "      <td>75 - 85</td>\n",
       "      <td>False</td>\n",
       "      <td>True</td>\n",
       "    </tr>\n",
       "    <tr>\n",
       "      <th>1</th>\n",
       "      <td>Academic</td>\n",
       "      <td>A</td>\n",
       "      <td>Male</td>\n",
       "      <td>Less Interested</td>\n",
       "      <td>Urban</td>\n",
       "      <td>55-60</td>\n",
       "      <td>Low</td>\n",
       "      <td>Medium</td>\n",
       "      <td>85 - 95</td>\n",
       "      <td>False</td>\n",
       "      <td>True</td>\n",
       "    </tr>\n",
       "    <tr>\n",
       "      <th>2</th>\n",
       "      <td>Academic</td>\n",
       "      <td>B</td>\n",
       "      <td>Female</td>\n",
       "      <td>Very Interested</td>\n",
       "      <td>Urban</td>\n",
       "      <td>45-50</td>\n",
       "      <td>Medium</td>\n",
       "      <td>Medium</td>\n",
       "      <td>85 - 95</td>\n",
       "      <td>False</td>\n",
       "      <td>True</td>\n",
       "    </tr>\n",
       "    <tr>\n",
       "      <th>3</th>\n",
       "      <td>Vocational</td>\n",
       "      <td>B</td>\n",
       "      <td>Male</td>\n",
       "      <td>Very Interested</td>\n",
       "      <td>Rural</td>\n",
       "      <td>45-50</td>\n",
       "      <td>Medium</td>\n",
       "      <td>Medium</td>\n",
       "      <td>75 - 85</td>\n",
       "      <td>True</td>\n",
       "      <td>True</td>\n",
       "    </tr>\n",
       "    <tr>\n",
       "      <th>4</th>\n",
       "      <td>Academic</td>\n",
       "      <td>A</td>\n",
       "      <td>Female</td>\n",
       "      <td>Very Interested</td>\n",
       "      <td>Urban</td>\n",
       "      <td>55-60</td>\n",
       "      <td>Medium</td>\n",
       "      <td>Medium</td>\n",
       "      <td>85 - 95</td>\n",
       "      <td>False</td>\n",
       "      <td>False</td>\n",
       "    </tr>\n",
       "  </tbody>\n",
       "</table>\n",
       "</div>"
      ],
      "text/plain": [
       "  type_school school_accreditation  gender         interest residence  \\\n",
       "0    Academic                    A    Male  Less Interested     Urban   \n",
       "1    Academic                    A    Male  Less Interested     Urban   \n",
       "2    Academic                    B  Female  Very Interested     Urban   \n",
       "3  Vocational                    B    Male  Very Interested     Rural   \n",
       "4    Academic                    A  Female  Very Interested     Urban   \n",
       "\n",
       "  parent_age parent_salary house_area average_grades  parent_was_in_college  \\\n",
       "0      55-60        Medium     Medium        75 - 85                  False   \n",
       "1      55-60           Low     Medium        85 - 95                  False   \n",
       "2      45-50        Medium     Medium        85 - 95                  False   \n",
       "3      45-50        Medium     Medium        75 - 85                   True   \n",
       "4      55-60        Medium     Medium        85 - 95                  False   \n",
       "\n",
       "   in_college  \n",
       "0        True  \n",
       "1        True  \n",
       "2        True  \n",
       "3        True  \n",
       "4       False  "
      ]
     },
     "execution_count": 12,
     "metadata": {},
     "output_type": "execute_result"
    }
   ],
   "source": [
    "df.head()"
   ]
  },
  {
   "cell_type": "code",
   "execution_count": 13,
   "id": "a4a5d844",
   "metadata": {},
   "outputs": [
    {
     "name": "stderr",
     "output_type": "stream",
     "text": [
      "/var/folders/rk/87ctkh9s7zd32q2dt07m0xyh0000gn/T/ipykernel_7645/3466518570.py:6: UserWarning: Matplotlib is currently using module://matplotlib_inline.backend_inline, which is a non-GUI backend, so cannot show the figure.\n",
      "  fig.show()\n"
     ]
    },
    {
     "data": {
      "image/png": "[encoded data removed]",
      "text/plain": [
       "<Figure size 1500x300 with 4 Axes>"
      ]
     },
     "metadata": {},
     "output_type": "display_data"
    }
   ],
   "source": [
    "discretized_features = ['parent_salary', 'parent_age', 'house_area', 'average_grades']\n",
    "\n",
    "fig, ax = plt.subplots(1, len(discretized_features))\n",
    "for i, feature in enumerate(df[discretized_features]):\n",
    "    df[feature].value_counts().plot(kind=\"bar\", ax=ax[i], figsize=(15,3)).set_title(feature)\n",
    "fig.show()"
   ]
  },
  {
   "cell_type": "markdown",
   "id": "0bc0c4a5",
   "metadata": {},
   "source": [
    "## 2. Data Exploration"
   ]
  },
  {
   "cell_type": "markdown",
   "id": "a5998251",
   "metadata": {},
   "source": [
    "Esploriamo i dati in modo da comprendere le relazioni tra gli attributi e fare delle inferenze."
   ]
  },
  {
   "cell_type": "markdown",
   "id": "ba70f215",
   "metadata": {},
   "source": [
    "Le prime relazioni che abbiamo esplorato sono quelle riguardanti gli attributi che, secondo noi, potrebbero direttamente influenzare la scelta dello studente di frequentare il college. Tra questi l'interesse, il tipo di liceo frequentato, la prestigiosità del liceo, il genere e la frequentazione del college da parte del genitore."
   ]
  },
  {
   "cell_type": "markdown",
   "id": "8eb8a482",
   "metadata": {},
   "source": [
    "#### 1. Interest"
   ]
  },
  {
   "cell_type": "markdown",
   "id": "9cef7463",
   "metadata": {},
   "source": [
    "Intuitivamente verrebbe da pensare che l'interesse di uno studente nell'andare al college sia strettamente correlato al frequentare effettivamente il college. Analizziamo la relazione tra queste due variabili:"
   ]
  },
  {
   "cell_type": "code",
   "execution_count": 14,
   "id": "91d87a5d",
   "metadata": {},
   "outputs": [
    {
     "data": {
      "text/plain": [
       "<AxesSubplot: xlabel='interest', ylabel='count'>"
      ]
     },
     "execution_count": 14,
     "metadata": {},
     "output_type": "execute_result"
    },
    {
     "data": {
      "image/png": "[encoded data removed]",
      "text/plain": [
       "<Figure size 700x300 with 1 Axes>"
      ]
     },
     "metadata": {},
     "output_type": "display_data"
    }
   ],
   "source": [
    "plt.figure(figsize=(7,3))\n",
    "sns.countplot(data=df,\n",
    "              x='interest',\n",
    "              hue='in_college', \n",
    "              order=['Not Interested','Less Interested','Uncertain','Interested','Very Interested'],\n",
    "              width=0.5\n",
    "             )"
   ]
  },
  {
   "cell_type": "markdown",
   "id": "d538af91",
   "metadata": {},
   "source": [
    "Actually, the graph shows that interest doesn't linearly correlates with college admission. But why? Well, there are students who are (very) interested to go to college that don't get accepted and there are students who are not interested to go to college but still go to college. In conclusion, we can state that `interest` does not necessarily imply `in_college`."
   ]
  },
  {
   "cell_type": "markdown",
   "id": "510f66d4",
   "metadata": {},
   "source": [
    "#### 2. Type of school"
   ]
  },
  {
   "cell_type": "markdown",
   "id": "eb435dc2",
   "metadata": {},
   "source": [
    "Come spiegato dal creatore del dataset, in Indonesia ci sono due tipi di liceo. Tipicamente, gli studenti che optano per un liceo di tipo Vocational sono coloro maggiormente interessati ad ottenere conoscenze pratiche da spendere subito nel mondo del lavoro. Dunque si potrebbe desumere che il tipo di scuola sia correlato con la scelta di andare al college."
   ]
  },
  {
   "cell_type": "code",
   "execution_count": 15,
   "id": "8df8858b",
   "metadata": {},
   "outputs": [
    {
     "data": {
      "text/plain": [
       "<AxesSubplot: xlabel='type_school', ylabel='count'>"
      ]
     },
     "execution_count": 15,
     "metadata": {},
     "output_type": "execute_result"
    },
    {
     "data": {
      "image/png": "[encoded data removed]",
      "text/plain": [
       "<Figure size 700x300 with 1 Axes>"
      ]
     },
     "metadata": {},
     "output_type": "display_data"
    }
   ],
   "source": [
    "plt.figure(figsize=(7,3))\n",
    "sns.countplot(data=df,\n",
    "              x='type_school',\n",
    "              hue='in_college',\n",
    "              width=0.5\n",
    "             )"
   ]
  },
  {
   "cell_type": "markdown",
   "id": "dc6b4bdc",
   "metadata": {},
   "source": [
    "Students of academic high school are a little more likely to go to college."
   ]
  },
  {
   "cell_type": "markdown",
   "id": "5c0651bc",
   "metadata": {},
   "source": [
    "#### 3. School accreditation"
   ]
  },
  {
   "cell_type": "markdown",
   "id": "720f0499",
   "metadata": {},
   "source": [
    "L'ammissione al college potrebbe essere influenzata dalla prestigiosità del liceo."
   ]
  },
  {
   "cell_type": "code",
   "execution_count": 16,
   "id": "8076e1ee",
   "metadata": {},
   "outputs": [
    {
     "data": {
      "text/plain": [
       "<AxesSubplot: xlabel='school_accreditation', ylabel='count'>"
      ]
     },
     "execution_count": 16,
     "metadata": {},
     "output_type": "execute_result"
    },
    {
     "data": {
      "image/png": "[encoded data removed]",
      "text/plain": [
       "<Figure size 700x300 with 1 Axes>"
      ]
     },
     "metadata": {},
     "output_type": "display_data"
    }
   ],
   "source": [
    "plt.figure(figsize=(7,3))\n",
    "sns.countplot(data=df,\n",
    "              x='school_accreditation',\n",
    "              hue='in_college',\n",
    "              width=0.2\n",
    "             )"
   ]
  },
  {
   "cell_type": "markdown",
   "id": "f7d55a5c",
   "metadata": {},
   "source": [
    "The countplot shows that students of good accredited high school are a little more likely to go to college."
   ]
  },
  {
   "cell_type": "markdown",
   "id": "7c189eaa",
   "metadata": {},
   "source": [
    "#### 4. Gender"
   ]
  },
  {
   "cell_type": "markdown",
   "id": "d83352cd",
   "metadata": {},
   "source": [
    "Vediamo se il genere influisce sull'andare al college (no intention for gender discrimination)"
   ]
  },
  {
   "cell_type": "code",
   "execution_count": 17,
   "id": "d045e085",
   "metadata": {},
   "outputs": [
    {
     "data": {
      "text/plain": [
       "<AxesSubplot: xlabel='gender', ylabel='count'>"
      ]
     },
     "execution_count": 17,
     "metadata": {},
     "output_type": "execute_result"
    },
    {
     "data": {
      "image/png": "[encoded data removed]",
      "text/plain": [
       "<Figure size 800x300 with 1 Axes>"
      ]
     },
     "metadata": {},
     "output_type": "display_data"
    }
   ],
   "source": [
    "plt.figure(figsize=(8,3))\n",
    "sns.countplot(data=df,\n",
    "              x='gender',\n",
    "              hue='in_college',\n",
    "              width=0.3\n",
    "             )"
   ]
  },
  {
   "cell_type": "markdown",
   "id": "ffc38852",
   "metadata": {},
   "source": [
    "Female students are a little more likely to go to college."
   ]
  },
  {
   "cell_type": "markdown",
   "id": "46237566",
   "metadata": {},
   "source": [
    "#### 5. Parent was in college"
   ]
  },
  {
   "cell_type": "markdown",
   "id": "8bd62025",
   "metadata": {},
   "source": [
    "Se il genitore è andato al college, il figlio sarà più propenso ad andare al college?"
   ]
  },
  {
   "cell_type": "code",
   "execution_count": 18,
   "id": "d0acd081",
   "metadata": {},
   "outputs": [
    {
     "data": {
      "text/plain": [
       "<AxesSubplot: xlabel='parent_was_in_college', ylabel='count'>"
      ]
     },
     "execution_count": 18,
     "metadata": {},
     "output_type": "execute_result"
    },
    {
     "data": {
      "image/png": "[encoded data removed]",
      "text/plain": [
       "<Figure size 800x300 with 1 Axes>"
      ]
     },
     "metadata": {},
     "output_type": "display_data"
    }
   ],
   "source": [
    "plt.figure(figsize=(8,3))\n",
    "sns.countplot(data=df,\n",
    "              x='parent_was_in_college',\n",
    "              hue='in_college',\n",
    "              width=0.3\n",
    "             )"
   ]
  },
  {
   "cell_type": "markdown",
   "id": "c88275fc",
   "metadata": {},
   "source": [
    "The graph shows... bla bla bla... vedi tu. If the parent was in college, the student will more likely go to college."
   ]
  },
  {
   "cell_type": "markdown",
   "id": "984aad90",
   "metadata": {},
   "source": [
    "#### 6. Average grades"
   ]
  },
  {
   "cell_type": "code",
   "execution_count": 19,
   "id": "fba1e303",
   "metadata": {},
   "outputs": [
    {
     "data": {
      "text/plain": [
       "<AxesSubplot: xlabel='average_grades', ylabel='count'>"
      ]
     },
     "execution_count": 19,
     "metadata": {},
     "output_type": "execute_result"
    },
    {
     "data": {
      "image/png": "[encoded data removed]",
      "text/plain": [
       "<Figure size 800x300 with 1 Axes>"
      ]
     },
     "metadata": {},
     "output_type": "display_data"
    }
   ],
   "source": [
    "plt.figure(figsize=(8,3))\n",
    "sns.countplot(data=df,\n",
    "              x='average_grades',\n",
    "              hue='in_college',\n",
    "              width=0.3\n",
    "             )"
   ]
  },
  {
   "cell_type": "markdown",
   "id": "0b1a65df",
   "metadata": {},
   "source": [
    "Gli studenti con una media di voti medio-alta sono più portati verso la scelta del college."
   ]
  },
  {
   "cell_type": "markdown",
   "id": "0fd06db1",
   "metadata": {},
   "source": [
    "#### 7. Parent salary"
   ]
  },
  {
   "cell_type": "markdown",
   "id": "853a6c51",
   "metadata": {},
   "source": [
    "Dato che il college è costoso, un'ulteriore implicazione potrebbe essere quella che coinvolge il salario percepito dal genitore."
   ]
  },
  {
   "cell_type": "code",
   "execution_count": 20,
   "id": "559ae1b6",
   "metadata": {},
   "outputs": [
    {
     "data": {
      "text/plain": [
       "<AxesSubplot: xlabel='parent_salary', ylabel='count'>"
      ]
     },
     "execution_count": 20,
     "metadata": {},
     "output_type": "execute_result"
    },
    {
     "data": {
      "image/png": "[encoded data removed]",
      "text/plain": [
       "<Figure size 800x300 with 1 Axes>"
      ]
     },
     "metadata": {},
     "output_type": "display_data"
    }
   ],
   "source": [
    "plt.figure(figsize=(8,3))\n",
    "sns.countplot(data=df,\n",
    "              x='parent_salary',\n",
    "              hue='in_college',\n",
    "              width=0.3\n",
    "             )"
   ]
  },
  {
   "cell_type": "markdown",
   "id": "947633e5",
   "metadata": {},
   "source": [
    "*Adesso esaminiamo le relazioni che sussistono tra gli attributi che non influenzano direttamente la scelta di frequentare il college.*"
   ]
  },
  {
   "cell_type": "markdown",
   "id": "40b0d9bd",
   "metadata": {},
   "source": [
    "**1. Parent age -> Salary** l'implicazione si dice anche direct effect"
   ]
  },
  {
   "cell_type": "code",
   "execution_count": 21,
   "id": "91a0f21c",
   "metadata": {},
   "outputs": [
    {
     "data": {
      "text/plain": [
       "<AxesSubplot: xlabel='parent_age', ylabel='count'>"
      ]
     },
     "execution_count": 21,
     "metadata": {},
     "output_type": "execute_result"
    },
    {
     "data": {
      "image/png": "[encoded data removed]",
      "text/plain": [
       "<Figure size 800x300 with 1 Axes>"
      ]
     },
     "metadata": {},
     "output_type": "display_data"
    }
   ],
   "source": [
    "plt.figure(figsize=(8,3))\n",
    "sns.countplot(data=df,\n",
    "              x='parent_age',\n",
    "              hue='parent_salary',\n",
    "              order=['40-45','45-50','50-55','55-60','60-65'],\n",
    "              width=0.3\n",
    "             )"
   ]
  },
  {
   "cell_type": "markdown",
   "id": "8a76443e",
   "metadata": {},
   "source": [
    "Sì."
   ]
  },
  {
   "cell_type": "markdown",
   "id": "82627508",
   "metadata": {},
   "source": [
    "**2. Parent was in college -> Parent salary**"
   ]
  },
  {
   "cell_type": "code",
   "execution_count": 22,
   "id": "c3e360d9",
   "metadata": {},
   "outputs": [
    {
     "data": {
      "text/plain": [
       "<AxesSubplot: xlabel='parent_was_in_college', ylabel='count'>"
      ]
     },
     "execution_count": 22,
     "metadata": {},
     "output_type": "execute_result"
    },
    {
     "data": {
      "image/png": "[encoded data removed]",
      "text/plain": [
       "<Figure size 800x300 with 1 Axes>"
      ]
     },
     "metadata": {},
     "output_type": "display_data"
    }
   ],
   "source": [
    "plt.figure(figsize=(8,3))\n",
    "sns.countplot(data=df,\n",
    "              x='parent_was_in_college',\n",
    "              hue='parent_salary',\n",
    "              width=0.3\n",
    "             )"
   ]
  },
  {
   "cell_type": "markdown",
   "id": "7e065f1d",
   "metadata": {},
   "source": [
    "Diremmo di sì, anche se le differenze sono minime."
   ]
  },
  {
   "cell_type": "markdown",
   "id": "8a391d13",
   "metadata": {},
   "source": [
    "**3. Parent salary -> House area**"
   ]
  },
  {
   "cell_type": "code",
   "execution_count": 23,
   "id": "96ee3a10",
   "metadata": {},
   "outputs": [
    {
     "data": {
      "text/plain": [
       "<AxesSubplot: xlabel='parent_salary', ylabel='count'>"
      ]
     },
     "execution_count": 23,
     "metadata": {},
     "output_type": "execute_result"
    },
    {
     "data": {
      "image/png": "[encoded data removed]",
      "text/plain": [
       "<Figure size 800x300 with 1 Axes>"
      ]
     },
     "metadata": {},
     "output_type": "display_data"
    }
   ],
   "source": [
    "plt.figure(figsize=(8,3))\n",
    "sns.countplot(data=df,\n",
    "              x='parent_salary',\n",
    "              hue='house_area',\n",
    "              order=['Low', 'Medium', 'High'],\n",
    "              width=0.3\n",
    "             )"
   ]
  },
  {
   "cell_type": "markdown",
   "id": "a1905603",
   "metadata": {},
   "source": [
    "Parent salary does not seem to imply the house area."
   ]
  },
  {
   "cell_type": "markdown",
   "id": "421628aa",
   "metadata": {},
   "source": [
    "**4. Parent salary -> Residence**"
   ]
  },
  {
   "cell_type": "code",
   "execution_count": 24,
   "id": "801c9daf",
   "metadata": {
    "scrolled": true
   },
   "outputs": [
    {
     "data": {
      "text/plain": [
       "<AxesSubplot: xlabel='parent_salary', ylabel='count'>"
      ]
     },
     "execution_count": 24,
     "metadata": {},
     "output_type": "execute_result"
    },
    {
     "data": {
      "image/png": "[encoded data removed]",
      "text/plain": [
       "<Figure size 800x300 with 1 Axes>"
      ]
     },
     "metadata": {},
     "output_type": "display_data"
    }
   ],
   "source": [
    "plt.figure(figsize=(8,3))\n",
    "sns.countplot(data=df,\n",
    "              x='parent_salary',\n",
    "              hue='residence',\n",
    "              order=['Low', 'Medium', 'High'],\n",
    "              width=0.3\n",
    "             )"
   ]
  },
  {
   "cell_type": "markdown",
   "id": "e53f59ef",
   "metadata": {},
   "source": [
    "Rich people seem to live in the rural area (this came out also in the articles found on the web)"
   ]
  },
  {
   "cell_type": "markdown",
   "id": "740663ef",
   "metadata": {},
   "source": [
    "**5. Residence -> Type of school**"
   ]
  },
  {
   "cell_type": "code",
   "execution_count": 25,
   "id": "58f30cc8",
   "metadata": {},
   "outputs": [
    {
     "data": {
      "text/plain": [
       "<AxesSubplot: xlabel='residence', ylabel='count'>"
      ]
     },
     "execution_count": 25,
     "metadata": {},
     "output_type": "execute_result"
    },
    {
     "data": {
      "image/png": "[encoded data removed]",
      "text/plain": [
       "<Figure size 800x300 with 1 Axes>"
      ]
     },
     "metadata": {},
     "output_type": "display_data"
    }
   ],
   "source": [
    "plt.figure(figsize=(8,3))\n",
    "sns.countplot(data=df,\n",
    "              x='residence',\n",
    "              hue='type_school',\n",
    "              width=0.3\n",
    "             )"
   ]
  },
  {
   "cell_type": "markdown",
   "id": "22e2edef",
   "metadata": {},
   "source": [
    "Sì."
   ]
  },
  {
   "cell_type": "markdown",
   "id": "d25f5290",
   "metadata": {},
   "source": [
    "**6. Average grades -> Interest**"
   ]
  },
  {
   "cell_type": "code",
   "execution_count": 26,
   "id": "fb5e1d0b",
   "metadata": {},
   "outputs": [
    {
     "data": {
      "text/plain": [
       "<AxesSubplot: xlabel='average_grades', ylabel='count'>"
      ]
     },
     "execution_count": 26,
     "metadata": {},
     "output_type": "execute_result"
    },
    {
     "data": {
      "image/png": "[encoded data removed]",
      "text/plain": [
       "<Figure size 800x300 with 1 Axes>"
      ]
     },
     "metadata": {},
     "output_type": "display_data"
    }
   ],
   "source": [
    "plt.figure(figsize=(8,3))\n",
    "sns.countplot(data=df,\n",
    "              x='average_grades',\n",
    "              hue='interest',\n",
    "              width=0.3\n",
    "             )"
   ]
  },
  {
   "cell_type": "markdown",
   "id": "e3ccae62",
   "metadata": {},
   "source": [
    "No."
   ]
  },
  {
   "cell_type": "markdown",
   "id": "94244655",
   "metadata": {},
   "source": [
    "Following the considerations above, we decided to drop the columns `interest` and `house_area`. This is because these variables do not imply other variables neither are implied."
   ]
  },
  {
   "cell_type": "code",
   "execution_count": 27,
   "id": "062363c8",
   "metadata": {},
   "outputs": [
    {
     "data": {
      "text/html": [
       "<div>\n",
       "<style scoped>\n",
       "    .dataframe tbody tr th:only-of-type {\n",
       "        vertical-align: middle;\n",
       "    }\n",
       "\n",
       "    .dataframe tbody tr th {\n",
       "        vertical-align: top;\n",
       "    }\n",
       "\n",
       "    .dataframe thead th {\n",
       "        text-align: right;\n",
       "    }\n",
       "</style>\n",
       "<table border=\"1\" class=\"dataframe\">\n",
       "  <thead>\n",
       "    <tr style=\"text-align: right;\">\n",
       "      <th></th>\n",
       "      <th>type_school</th>\n",
       "      <th>school_accreditation</th>\n",
       "      <th>gender</th>\n",
       "      <th>residence</th>\n",
       "      <th>parent_age</th>\n",
       "      <th>parent_salary</th>\n",
       "      <th>average_grades</th>\n",
       "      <th>parent_was_in_college</th>\n",
       "      <th>in_college</th>\n",
       "    </tr>\n",
       "  </thead>\n",
       "  <tbody>\n",
       "    <tr>\n",
       "      <th>0</th>\n",
       "      <td>Academic</td>\n",
       "      <td>A</td>\n",
       "      <td>Male</td>\n",
       "      <td>Urban</td>\n",
       "      <td>55-60</td>\n",
       "      <td>Medium</td>\n",
       "      <td>75 - 85</td>\n",
       "      <td>False</td>\n",
       "      <td>True</td>\n",
       "    </tr>\n",
       "    <tr>\n",
       "      <th>1</th>\n",
       "      <td>Academic</td>\n",
       "      <td>A</td>\n",
       "      <td>Male</td>\n",
       "      <td>Urban</td>\n",
       "      <td>55-60</td>\n",
       "      <td>Low</td>\n",
       "      <td>85 - 95</td>\n",
       "      <td>False</td>\n",
       "      <td>True</td>\n",
       "    </tr>\n",
       "    <tr>\n",
       "      <th>2</th>\n",
       "      <td>Academic</td>\n",
       "      <td>B</td>\n",
       "      <td>Female</td>\n",
       "      <td>Urban</td>\n",
       "      <td>45-50</td>\n",
       "      <td>Medium</td>\n",
       "      <td>85 - 95</td>\n",
       "      <td>False</td>\n",
       "      <td>True</td>\n",
       "    </tr>\n",
       "    <tr>\n",
       "      <th>3</th>\n",
       "      <td>Vocational</td>\n",
       "      <td>B</td>\n",
       "      <td>Male</td>\n",
       "      <td>Rural</td>\n",
       "      <td>45-50</td>\n",
       "      <td>Medium</td>\n",
       "      <td>75 - 85</td>\n",
       "      <td>True</td>\n",
       "      <td>True</td>\n",
       "    </tr>\n",
       "    <tr>\n",
       "      <th>4</th>\n",
       "      <td>Academic</td>\n",
       "      <td>A</td>\n",
       "      <td>Female</td>\n",
       "      <td>Urban</td>\n",
       "      <td>55-60</td>\n",
       "      <td>Medium</td>\n",
       "      <td>85 - 95</td>\n",
       "      <td>False</td>\n",
       "      <td>False</td>\n",
       "    </tr>\n",
       "  </tbody>\n",
       "</table>\n",
       "</div>"
      ],
      "text/plain": [
       "  type_school school_accreditation  gender residence parent_age parent_salary  \\\n",
       "0    Academic                    A    Male     Urban      55-60        Medium   \n",
       "1    Academic                    A    Male     Urban      55-60           Low   \n",
       "2    Academic                    B  Female     Urban      45-50        Medium   \n",
       "3  Vocational                    B    Male     Rural      45-50        Medium   \n",
       "4    Academic                    A  Female     Urban      55-60        Medium   \n",
       "\n",
       "  average_grades  parent_was_in_college  in_college  \n",
       "0        75 - 85                  False        True  \n",
       "1        85 - 95                  False        True  \n",
       "2        85 - 95                  False        True  \n",
       "3        75 - 85                   True        True  \n",
       "4        85 - 95                  False       False  "
      ]
     },
     "execution_count": 27,
     "metadata": {},
     "output_type": "execute_result"
    }
   ],
   "source": [
    "df = df.drop(['interest', 'house_area'], axis=1)\n",
    "df.head()"
   ]
  },
  {
   "cell_type": "markdown",
   "id": "e9722161",
   "metadata": {},
   "source": [
    "## 3. Bayesian Network"
   ]
  },
  {
   "cell_type": "markdown",
   "id": "4db3fdad",
   "metadata": {},
   "source": [
    "We build our Bayes network following the considerations just made. First, we show the graphical representation of the net through the library `daft`. Secondly, we implement the Bayes Network using the `pgmpy` library."
   ]
  },
  {
   "cell_type": "code",
   "execution_count": 28,
   "id": "ac022cb3",
   "metadata": {},
   "outputs": [
    {
     "data": {
      "image/png": "[encoded data removed]",
      "text/plain": [
       "<Figure size 472.441x472.441 with 1 Axes>"
      ]
     },
     "metadata": {},
     "output_type": "display_data"
    }
   ],
   "source": [
    "import daft #(punk)\n",
    "import matplotlib.pyplot as plt\n",
    "from daft import PGM\n",
    "\n",
    "pgm = PGM(shape=[6, 6])\n",
    "\n",
    "pgm.add_node(daft.Node('Age', r\"Age\", 1, 6))\n",
    "pgm.add_node(daft.Node('Pic', r\"Pic\", 3, 6))\n",
    "pgm.add_node(daft.Node('Sal', r\"Sal\", 2, 5))\n",
    "pgm.add_node(daft.Node('Res', r\"Res\", 1, 4))\n",
    "pgm.add_node(daft.Node('Acc', r\"Acc\", 4, 6))\n",
    "pgm.add_node(daft.Node('Gen', r\"Gen\", 5, 6))\n",
    "pgm.add_node(daft.Node('Avg', r\"Avg\", 6, 6))\n",
    "pgm.add_node(daft.Node('Tos', r\"Tos\", 1, 3))\n",
    "pgm.add_node(daft.Node('Inc', r\"Inc\", 3, 1))\n",
    "\n",
    "\n",
    "pgm.add_edge('Age', 'Sal')\n",
    "pgm.add_edge('Pic', 'Sal')\n",
    "pgm.add_edge('Pic', 'Inc')\n",
    "pgm.add_edge('Sal', 'Res')\n",
    "pgm.add_edge('Sal', 'Inc')\n",
    "pgm.add_edge('Res', 'Tos')\n",
    "pgm.add_edge('Tos', 'Inc')\n",
    "pgm.add_edge('Acc', 'Inc')\n",
    "pgm.add_edge('Gen', 'Inc')\n",
    "pgm.add_edge('Avg', 'Inc')\n",
    "\n",
    "pgm.render()\n",
    "plt.show()"
   ]
  },
  {
   "cell_type": "markdown",
   "id": "25ef295d",
   "metadata": {},
   "source": [
    "In this network, we can spot different types of dependencies:"
   ]
  },
  {
   "cell_type": "markdown",
   "id": "b94b3881",
   "metadata": {},
   "source": [
    "**Causal trail (cascade)**"
   ]
  },
  {
   "cell_type": "code",
   "execution_count": 29,
   "id": "3176f27f",
   "metadata": {},
   "outputs": [
    {
     "data": {
      "image/png": "[encoded data removed]",
      "text/plain": [
       "<Figure size 78.7402x236.22 with 1 Axes>"
      ]
     },
     "metadata": {},
     "output_type": "display_data"
    }
   ],
   "source": [
    "pgm = PGM(shape=[1, 3])\n",
    "\n",
    "pgm.add_node(daft.Node('Res', r\"Res\", 1, 3))\n",
    "pgm.add_node(daft.Node('Tos', r\"Tos\", 1, 2))\n",
    "pgm.add_node(daft.Node('Inc', r\"Inc\", 1, 1))\n",
    "\n",
    "pgm.add_edge('Res', 'Tos')\n",
    "pgm.add_edge('Tos', 'Inc')\n",
    "\n",
    "pgm.render()\n",
    "plt.show()"
   ]
  },
  {
   "cell_type": "markdown",
   "id": "70e0f4a7",
   "metadata": {},
   "source": [
    "If `Tos` is observed, then `Res` $\\perp$ `Inc` $|$ `Tos`. However, if `Tos` is unobserved, then `Res` $\\not\\perp$ `Inc`. Here, the intuition is again that `Tos` holds all the information that determines the outcome of `Inc`; thus, it does not matter what value `Res` takes."
   ]
  },
  {
   "cell_type": "markdown",
   "id": "ac1e1ccf",
   "metadata": {},
   "source": [
    "**V-structure (common cause)**"
   ]
  },
  {
   "cell_type": "code",
   "execution_count": 30,
   "id": "965505d3",
   "metadata": {},
   "outputs": [
    {
     "data": {
      "image/png": "[encoded data removed]",
      "text/plain": [
       "<Figure size 236.22x157.48 with 1 Axes>"
      ]
     },
     "metadata": {},
     "output_type": "display_data"
    }
   ],
   "source": [
    "pgm = PGM(shape=[3, 2])\n",
    "\n",
    "pgm.add_node(daft.Node('Age', r\"Age\", 1, 2))\n",
    "pgm.add_node(daft.Node('Pic', r\"Pic\", 3, 2))\n",
    "pgm.add_node(daft.Node('Sal', r\"Sal\", 2, 1))\n",
    "\n",
    "pgm.add_edge('Age', 'Sal')\n",
    "pgm.add_edge('Pic', 'Sal')\n",
    "\n",
    "pgm.render()\n",
    "plt.show()"
   ]
  },
  {
   "cell_type": "markdown",
   "id": "6b1312e2",
   "metadata": {},
   "source": [
    "In other words, `Age` $ \\perp $ `Pic` if `Sal` is unobserved, but `Age` $\\not \\perp$ `Pic` $|$ `Sal` if `Sal` is observed."
   ]
  },
  {
   "cell_type": "markdown",
   "id": "889380aa",
   "metadata": {},
   "source": [
    "**Common parent (common effect)**"
   ]
  },
  {
   "cell_type": "code",
   "execution_count": 31,
   "id": "1d71837c",
   "metadata": {},
   "outputs": [
    {
     "data": {
      "image/png": "[encoded data removed]",
      "text/plain": [
       "<Figure size 236.22x157.48 with 1 Axes>"
      ]
     },
     "metadata": {},
     "output_type": "display_data"
    }
   ],
   "source": [
    "pgm = PGM(shape=[3, 2])\n",
    "\n",
    "pgm.add_node(daft.Node('Pic', r\"Pic\", 2, 2))\n",
    "pgm.add_node(daft.Node('Sal', r\"Sal\", 1, 1))\n",
    "pgm.add_node(daft.Node('Inc', r\"Inc\", 3, 1))\n",
    "\n",
    "pgm.add_edge('Pic', 'Sal')\n",
    "pgm.add_edge('Pic', 'Inc')\n",
    "\n",
    "pgm.render()\n",
    "plt.show()"
   ]
  },
  {
   "cell_type": "markdown",
   "id": "06fddde0",
   "metadata": {},
   "source": [
    "If `Pic` is observed, then `Sal` $\\perp$ `Inc` $|$ `Pic`. However, if `Pic` is unobserved, then `Sal` $\\not\\perp$ `Inc`. Intuitively this stems from the fact that `Pic` contains all the information that determines the outcomes of `Sal` and `Inc`; once it is observed, there is nothing else that affects these variables' outcomes."
   ]
  },
  {
   "cell_type": "markdown",
   "id": "d6a89256",
   "metadata": {},
   "source": [
    "### Network implementation"
   ]
  },
  {
   "cell_type": "code",
   "execution_count": 32,
   "id": "bf50c9d0",
   "metadata": {},
   "outputs": [],
   "source": [
    "from pgmpy.models import BayesianNetwork\n",
    "\n",
    "model = BayesianNetwork([('parent_age','parent_salary'),('parent_was_in_college','parent_salary'),\n",
    "                         ('parent_was_in_college','in_college'),('parent_salary','residence'),\n",
    "                         ('parent_salary','in_college'),('residence','type_school'),\n",
    "                         ('school_accreditation','in_college'),('gender','in_college'),\n",
    "                         ('average_grades','in_college'),('type_school','in_college')])"
   ]
  },
  {
   "cell_type": "markdown",
   "id": "c127596f",
   "metadata": {},
   "source": [
    "#### Exploring the network"
   ]
  },
  {
   "cell_type": "markdown",
   "id": "f27371d9",
   "metadata": {},
   "source": [
    "Now we make some considerations following the dependencies shown graphically in the previous chapter. We are going to verify them with the functions of the library."
   ]
  },
  {
   "cell_type": "markdown",
   "id": "18364ba3",
   "metadata": {},
   "source": [
    "##### Active trails"
   ]
  },
  {
   "cell_type": "code",
   "execution_count": 33,
   "id": "1f7a28cc",
   "metadata": {},
   "outputs": [
    {
     "data": {
      "text/plain": [
       "{'type_school': {'in_college',\n",
       "  'parent_age',\n",
       "  'parent_salary',\n",
       "  'parent_was_in_college',\n",
       "  'residence',\n",
       "  'type_school'}}"
      ]
     },
     "execution_count": 33,
     "metadata": {},
     "output_type": "execute_result"
    }
   ],
   "source": [
    "model.active_trail_nodes('type_school')"
   ]
  },
  {
   "cell_type": "code",
   "execution_count": 34,
   "id": "f99bd34a",
   "metadata": {},
   "outputs": [
    {
     "data": {
      "text/plain": [
       "{'type_school': {'in_college', 'type_school'}}"
      ]
     },
     "execution_count": 34,
     "metadata": {},
     "output_type": "execute_result"
    }
   ],
   "source": [
    "model.active_trail_nodes('type_school', observed='residence')"
   ]
  },
  {
   "cell_type": "markdown",
   "id": "dbd71b0b",
   "metadata": {},
   "source": [
    "Non possiamo andare più a salary perché se residence è osservato tos e sal sono indipendenti e sal->res->tos non è più un active trail quindi $sal\\perp tos$"
   ]
  },
  {
   "cell_type": "markdown",
   "id": "ae779df5",
   "metadata": {},
   "source": [
    "##### D-Separation"
   ]
  },
  {
   "cell_type": "markdown",
   "id": "bdbfe43a",
   "metadata": {},
   "source": [
    "Two sets of nodes X, Y are d-separated given Z if there is *no active trail* between any X ∈ X and Y ∈ Y given Z. We expect that if `residence` is not observed then `type_school` and `parent_age` are d-connected."
   ]
  },
  {
   "cell_type": "code",
   "execution_count": 35,
   "id": "3fecb332",
   "metadata": {},
   "outputs": [
    {
     "data": {
      "text/plain": [
       "True"
      ]
     },
     "execution_count": 35,
     "metadata": {},
     "output_type": "execute_result"
    }
   ],
   "source": [
    "model.is_dconnected('type_school', 'parent_age')"
   ]
  },
  {
   "cell_type": "code",
   "execution_count": 36,
   "id": "f1c23014",
   "metadata": {},
   "outputs": [
    {
     "data": {
      "text/plain": [
       "False"
      ]
     },
     "execution_count": 36,
     "metadata": {},
     "output_type": "execute_result"
    }
   ],
   "source": [
    "model.is_dconnected('type_school', 'parent_age', observed=['residence'])"
   ]
  },
  {
   "cell_type": "markdown",
   "id": "db6126cc",
   "metadata": {},
   "source": [
    "##### Local independencies\n",
    "\n",
    "Each node is conditionally independent of its nondescendants given its parents."
   ]
  },
  {
   "cell_type": "code",
   "execution_count": 38,
   "id": "6a4022ca",
   "metadata": {},
   "outputs": [
    {
     "data": {
      "text/plain": [
       "(parent_salary ⟂ average_grades, school_accreditation, gender | parent_age, parent_was_in_college)"
      ]
     },
     "execution_count": 38,
     "metadata": {},
     "output_type": "execute_result"
    }
   ],
   "source": [
    "model.local_independencies('parent_salary')"
   ]
  },
  {
   "cell_type": "markdown",
   "id": "45bc0494",
   "metadata": {},
   "source": [
    "##### Markov blanket\n",
    "\n",
    "Each node is conditionally independent of all others given its Markov blanket: parents + children + children's parents. "
   ]
  },
  {
   "cell_type": "code",
   "execution_count": 39,
   "id": "60ad115b",
   "metadata": {},
   "outputs": [
    {
     "data": {
      "text/plain": [
       "['type_school', 'parent_salary']"
      ]
     },
     "execution_count": 39,
     "metadata": {},
     "output_type": "execute_result"
    }
   ],
   "source": [
    "model.get_markov_blanket(\"residence\")"
   ]
  },
  {
   "cell_type": "markdown",
   "id": "87fefd3d",
   "metadata": {},
   "source": [
    "##### Irrelevant variables\n",
    "\n",
    "Given the query $P(X|E)$, we will say that a node $Y$ *is irrelevant to the query* if $Y \\not\\in AncestralTree(X)$ or $Y$ is d-separated from $X$ by $E$.\n",
    "\n",
    "In particular, we define $AncestralTree(X)$ as $Ancestors(\\{X\\} \\cup E)$."
   ]
  },
  {
   "cell_type": "markdown",
   "id": "f81fb3e1",
   "metadata": {},
   "source": [
    "In `pgmpy` there is not a function to check irrelevant variables but we can show irrelevances graphically and check them by using the functions `get_ancestral_graph` and `is_dconnected`."
   ]
  },
  {
   "cell_type": "markdown",
   "id": "c088a15a",
   "metadata": {},
   "source": [
    "Let's consider the query $P($ `Tos` $|$ `Res` $)$."
   ]
  },
  {
   "cell_type": "code",
   "execution_count": 40,
   "id": "cef95a7a",
   "metadata": {},
   "outputs": [
    {
     "data": {
      "image/png": "[encoded data removed]",
      "text/plain": [
       "<Figure size 197.56x204.891 with 1 Axes>"
      ]
     },
     "metadata": {},
     "output_type": "display_data"
    }
   ],
   "source": [
    "ancestral_tree = model.get_ancestral_graph('type_school').to_daft()\n",
    "\n",
    "ancestral_tree.render()\n",
    "plt.show()"
   ]
  },
  {
   "cell_type": "code",
   "execution_count": 41,
   "id": "0b6cf5f3",
   "metadata": {},
   "outputs": [
    {
     "name": "stdout",
     "output_type": "stream",
     "text": [
      "False\n",
      "False\n",
      "False\n"
     ]
    }
   ],
   "source": [
    "print(model.is_dconnected('parent_age', 'type_school', observed=['residence']))\n",
    "print(model.is_dconnected('parent_salary', 'type_school', observed=['residence']))\n",
    "print(model.is_dconnected('parent_was_in_college', 'type_school', observed=['residence']))"
   ]
  },
  {
   "cell_type": "markdown",
   "id": "6cb5d1bf",
   "metadata": {},
   "source": [
    "Variables `parent_age`, `parent_was_in_college`, `parent_salary` are irrelevant to the query $P($ `Tos` $|$ `Res` $)$."
   ]
  },
  {
   "cell_type": "markdown",
   "id": "b4b67b2a",
   "metadata": {},
   "source": [
    "## 4. Parameter Estimation\n",
    "\n",
    "To estimate the CPDs and thus to obtain the CPTs, we use the MLE estimator. This technique search for a point value which maximizes the likelihood $P(D|\\theta)$, where D is the dataset and $\\theta$ is a set of parameters."
   ]
  },
  {
   "cell_type": "code",
   "execution_count": 42,
   "id": "2e793865",
   "metadata": {},
   "outputs": [],
   "source": [
    "from pgmpy.estimators import MaximumLikelihoodEstimator\n",
    "\n",
    "model.cpds = []\n",
    "model.fit(data=df, estimator=MaximumLikelihoodEstimator)"
   ]
  },
  {
   "cell_type": "markdown",
   "id": "c281dbac",
   "metadata": {},
   "source": [
    "We use the function `check_model()`. This method checks for the following errors:\n",
    "- if the sum of the probabilities for each state is equal to 1\n",
    "- if the CPDs associated with nodes are consistent with their parents\n",
    "\n",
    "Then we show the obtained CPTs."
   ]
  },
  {
   "cell_type": "code",
   "execution_count": 43,
   "id": "9c95a61e",
   "metadata": {},
   "outputs": [
    {
     "name": "stdout",
     "output_type": "stream",
     "text": [
      "The model does not contain errors.\n",
      "\n",
      "\n",
      "CPT of the variable parent_age\n",
      "+-------------------+-------+\n",
      "| parent_age(40-45) | 0.033 |\n",
      "+-------------------+-------+\n",
      "| parent_age(45-50) | 0.26  |\n",
      "+-------------------+-------+\n",
      "| parent_age(50-55) | 0.556 |\n",
      "+-------------------+-------+\n",
      "| parent_age(55-60) | 0.143 |\n",
      "+-------------------+-------+\n",
      "| parent_age(60-65) | 0.008 |\n",
      "+-------------------+-------+\n",
      "\n",
      "\n",
      "CPT of the variable parent_salary\n",
      "+-----------------------+-----+-----------------------------+\n",
      "| parent_age            | ... | parent_age(60-65)           |\n",
      "+-----------------------+-----+-----------------------------+\n",
      "| parent_was_in_college | ... | parent_was_in_college(True) |\n",
      "+-----------------------+-----+-----------------------------+\n",
      "| parent_salary(High)   | ... | 0.0                         |\n",
      "+-----------------------+-----+-----------------------------+\n",
      "| parent_salary(Low)    | ... | 0.0                         |\n",
      "+-----------------------+-----+-----------------------------+\n",
      "| parent_salary(Medium) | ... | 1.0                         |\n",
      "+-----------------------+-----+-----------------------------+\n",
      "\n",
      "\n",
      "CPT of the variable parent_was_in_college\n",
      "+------------------------------+------+\n",
      "| parent_was_in_college(False) | 0.48 |\n",
      "+------------------------------+------+\n",
      "| parent_was_in_college(True)  | 0.52 |\n",
      "+------------------------------+------+\n",
      "\n",
      "\n",
      "CPT of the variable in_college\n",
      "+-----------------------+-----+-----------------------------+\n",
      "| average_grades        | ... | average_grades(95+)         |\n",
      "+-----------------------+-----+-----------------------------+\n",
      "| gender                | ... | gender(Male)                |\n",
      "+-----------------------+-----+-----------------------------+\n",
      "| parent_salary         | ... | parent_salary(Medium)       |\n",
      "+-----------------------+-----+-----------------------------+\n",
      "| parent_was_in_college | ... | parent_was_in_college(True) |\n",
      "+-----------------------+-----+-----------------------------+\n",
      "| school_accreditation  | ... | school_accreditation(B)     |\n",
      "+-----------------------+-----+-----------------------------+\n",
      "| type_school           | ... | type_school(Vocational)     |\n",
      "+-----------------------+-----+-----------------------------+\n",
      "| in_college(False)     | ... | 0.5                         |\n",
      "+-----------------------+-----+-----------------------------+\n",
      "| in_college(True)      | ... | 0.5                         |\n",
      "+-----------------------+-----+-----------------------------+\n",
      "\n",
      "\n",
      "CPT of the variable residence\n",
      "+------------------+-----+-----------------------+\n",
      "| parent_salary    | ... | parent_salary(Medium) |\n",
      "+------------------+-----+-----------------------+\n",
      "| residence(Rural) | ... | 0.5477815699658704    |\n",
      "+------------------+-----+-----------------------+\n",
      "| residence(Urban) | ... | 0.4522184300341297    |\n",
      "+------------------+-----+-----------------------+\n",
      "\n",
      "\n",
      "CPT of the variable type_school\n",
      "+-------------------------+--------------------+---------------------+\n",
      "| residence               | residence(Rural)   | residence(Urban)    |\n",
      "+-------------------------+--------------------+---------------------+\n",
      "| type_school(Academic)   | 0.4793926247288503 | 0.7198515769944341  |\n",
      "+-------------------------+--------------------+---------------------+\n",
      "| type_school(Vocational) | 0.5206073752711496 | 0.28014842300556586 |\n",
      "+-------------------------+--------------------+---------------------+\n",
      "\n",
      "\n",
      "CPT of the variable school_accreditation\n",
      "+-------------------------+-------+\n",
      "| school_accreditation(A) | 0.481 |\n",
      "+-------------------------+-------+\n",
      "| school_accreditation(B) | 0.519 |\n",
      "+-------------------------+-------+\n",
      "\n",
      "\n",
      "CPT of the variable gender\n",
      "+----------------+-------+\n",
      "| gender(Female) | 0.485 |\n",
      "+----------------+-------+\n",
      "| gender(Male)   | 0.515 |\n",
      "+----------------+-------+\n",
      "\n",
      "\n",
      "CPT of the variable average_grades\n",
      "+-------------------------+-------+\n",
      "| average_grades(75 - 85) | 0.424 |\n",
      "+-------------------------+-------+\n",
      "| average_grades(85 - 95) | 0.566 |\n",
      "+-------------------------+-------+\n",
      "| average_grades(95+)     | 0.01  |\n",
      "+-------------------------+-------+\n",
      "\n",
      "\n"
     ]
    }
   ],
   "source": [
    "if model.check_model():\n",
    "    print('The model does not contain errors.')\n",
    "    print('\\n')\n",
    "else:\n",
    "    print('Something went wrong with the model.')\n",
    "    print('\\n')\n",
    "\n",
    "for cpd in model.get_cpds():\n",
    "    print('CPT of the variable', cpd.variable)\n",
    "    print(cpd)\n",
    "    print('\\n')"
   ]
  },
  {
   "cell_type": "markdown",
   "id": "df99fcc8",
   "metadata": {},
   "source": [
    "## 5. Inferences"
   ]
  },
  {
   "cell_type": "markdown",
   "id": "432c30b0",
   "metadata": {},
   "source": [
    "Now that we have implemented the network, we can use it. Typically, we’ll be in a situation in which we have some evidence, that is, some of the variables are instantiated, and we want to infer something about the probability distribution of some other variables."
   ]
  },
  {
   "cell_type": "markdown",
   "id": "a2dd8ab7",
   "metadata": {},
   "source": [
    "With **exact inference**, we analytically compute the conditional probability distribution over the variables of interest. But sometimes, that’s too hard to do, in which case we can use **approximation techniques** based on *statistical sampling*."
   ]
  },
  {
   "attachments": {},
   "cell_type": "markdown",
   "id": "5846154e",
   "metadata": {},
   "source": [
    "For each technique, we are going to follow different reasoning patterns. Let's consider the graph below:\n",
    "\n",
    "<img src=\"images/reasoning_patterns.png \" width=\"250\"/>"
   ]
  },
  {
   "cell_type": "markdown",
   "id": "951ef2e7",
   "metadata": {},
   "source": [
    "Given $X_1$ and/or $X_2$, computing $P(Y|X_1)$, $P(Y|X_2)$ and $P(Y|X_1,X_2)$ are **predictive (or causal) reasoning**, from cause to effect.\n",
    "\n",
    "Given $Y$, computing $P(X_1|Y)$, $P(X_2|Y)$ and $P(X_1,X_2|Y)$ are **diagnostic (or evidential) reasoning**, from effect to cause.\n",
    "\n",
    "There is also another type of reasoning, called **intercausal reasoning**, that is reasoning between the causes with a common effect, in contrast with causal reasoning and evidential reasoning. Concretely, given $X_1$ and $X_2$, compute $P(X_2|X_1,Y)$, or given $X_2$ and $Y$, compute $P(X_1|X_2,Y)$."
   ]
  },
  {
   "cell_type": "markdown",
   "id": "e082f917",
   "metadata": {},
   "source": [
    "### Exact Inferences"
   ]
  },
  {
   "cell_type": "markdown",
   "id": "ac6b07ae",
   "metadata": {},
   "source": [
    "To analytically compute the conditional probability distribution over the variables of interest, we adopt the variable elimination algorithm which is based on the ordering of the variables that aren’t fixed in the query."
   ]
  },
  {
   "cell_type": "code",
   "execution_count": 44,
   "id": "341975f1",
   "metadata": {},
   "outputs": [],
   "source": [
    "from pgmpy.inference import VariableElimination\n",
    "\n",
    "inference = VariableElimination(model)"
   ]
  },
  {
   "cell_type": "markdown",
   "id": "de841c12",
   "metadata": {},
   "source": [
    "#### Causal"
   ]
  },
  {
   "cell_type": "code",
   "execution_count": 45,
   "id": "2711a1a0",
   "metadata": {},
   "outputs": [
    {
     "name": "stdout",
     "output_type": "stream",
     "text": [
      "P(in_college | type_school = Academic, parent_salary = High)\n",
      "+-------------------+-------------------+\n",
      "| in_college        |   phi(in_college) |\n",
      "+===================+===================+\n",
      "| in_college(False) |            0.2677 |\n",
      "+-------------------+-------------------+\n",
      "| in_college(True)  |            0.7323 |\n",
      "+-------------------+-------------------+\n"
     ]
    }
   ],
   "source": [
    "q1 = inference.query(['in_college'], {'type_school':'Academic', 'parent_salary':'High'})\n",
    "\n",
    "print('P(in_college | type_school = Academic, parent_salary = High)')\n",
    "print(q1)"
   ]
  },
  {
   "cell_type": "code",
   "execution_count": 46,
   "id": "4ed3888e",
   "metadata": {},
   "outputs": [
    {
     "name": "stdout",
     "output_type": "stream",
     "text": [
      "P(in_college | type_school = Vocational, parent_salary = Medium)\n",
      "+-------------------+-------------------+\n",
      "| in_college        |   phi(in_college) |\n",
      "+===================+===================+\n",
      "| in_college(False) |            0.4692 |\n",
      "+-------------------+-------------------+\n",
      "| in_college(True)  |            0.5308 |\n",
      "+-------------------+-------------------+\n"
     ]
    }
   ],
   "source": [
    "q2 = inference.query(['in_college'], {'type_school':'Vocational', 'parent_salary':'Medium'})\n",
    "\n",
    "print('P(in_college | type_school = Vocational, parent_salary = Medium)')\n",
    "print(q2)"
   ]
  },
  {
   "cell_type": "code",
   "execution_count": 47,
   "id": "1ce0b8c9",
   "metadata": {},
   "outputs": [
    {
     "name": "stdout",
     "output_type": "stream",
     "text": [
      "P(in_college | type_school = Academic, parent_salary = Low)\n",
      "+-------------------+-------------------+\n",
      "| in_college        |   phi(in_college) |\n",
      "+===================+===================+\n",
      "| in_college(False) |            0.7295 |\n",
      "+-------------------+-------------------+\n",
      "| in_college(True)  |            0.2705 |\n",
      "+-------------------+-------------------+\n"
     ]
    }
   ],
   "source": [
    "q3 = inference.query(['in_college'], {'type_school':'Academic', 'parent_salary':'Low'})\n",
    "\n",
    "print('P(in_college | type_school = Academic, parent_salary = Low)')\n",
    "print(q3)"
   ]
  },
  {
   "cell_type": "code",
   "execution_count": 48,
   "id": "84aa602d",
   "metadata": {},
   "outputs": [
    {
     "name": "stdout",
     "output_type": "stream",
     "text": [
      "P(in_college | parent_age = 60-65, average_grades = 95+, residence = Urban)\n",
      "+-------------------+-------------------+\n",
      "| in_college        |   phi(in_college) |\n",
      "+===================+===================+\n",
      "| in_college(False) |            0.3989 |\n",
      "+-------------------+-------------------+\n",
      "| in_college(True)  |            0.6011 |\n",
      "+-------------------+-------------------+\n"
     ]
    }
   ],
   "source": [
    "q4 = inference.query(['in_college'], {'parent_age':'60-65' ,'average_grades':'95+', 'residence':'Urban'})\n",
    "\n",
    "print('P(in_college | parent_age = 60-65, average_grades = 95+, residence = Urban)')\n",
    "print(q4)"
   ]
  },
  {
   "cell_type": "code",
   "execution_count": 49,
   "id": "2186ece2",
   "metadata": {},
   "outputs": [
    {
     "name": "stdout",
     "output_type": "stream",
     "text": [
      "P(in_college | parent_age = 60-65, average_grades = 85 - 95, residence = Urban)\n",
      "+-------------------+-------------------+\n",
      "| in_college        |   phi(in_college) |\n",
      "+===================+===================+\n",
      "| in_college(False) |            0.3072 |\n",
      "+-------------------+-------------------+\n",
      "| in_college(True)  |            0.6928 |\n",
      "+-------------------+-------------------+\n"
     ]
    }
   ],
   "source": [
    "q5 = inference.query(['in_college'], {'parent_age':'60-65' ,'average_grades':'85 - 95', 'residence':'Urban'})\n",
    "\n",
    "print('P(in_college | parent_age = 60-65, average_grades = 85 - 95, residence = Urban)')\n",
    "print(q5)"
   ]
  },
  {
   "cell_type": "code",
   "execution_count": 50,
   "id": "81ed27ec",
   "metadata": {},
   "outputs": [
    {
     "name": "stdout",
     "output_type": "stream",
     "text": [
      "P(in_college | parent_age = 60-65, average_grades = 85 - 95, residence = Rural)\n",
      "+-------------------+-------------------+\n",
      "| in_college        |   phi(in_college) |\n",
      "+===================+===================+\n",
      "| in_college(False) |            0.2759 |\n",
      "+-------------------+-------------------+\n",
      "| in_college(True)  |            0.7241 |\n",
      "+-------------------+-------------------+\n"
     ]
    }
   ],
   "source": [
    "q6 = inference.query(['in_college'], {'parent_age':'60-65' ,'average_grades':'85 - 95', 'residence':'Rural'})\n",
    "\n",
    "print('P(in_college | parent_age = 60-65, average_grades = 85 - 95, residence = Rural)')\n",
    "print(q6)"
   ]
  },
  {
   "cell_type": "code",
   "execution_count": 51,
   "id": "93a9b4c0",
   "metadata": {},
   "outputs": [
    {
     "name": "stdout",
     "output_type": "stream",
     "text": [
      "P(in_college | parent_age = 40-45, average_grades = 75 - 85, residence = Urban)\n",
      "+-------------------+-------------------+\n",
      "| in_college        |   phi(in_college) |\n",
      "+===================+===================+\n",
      "| in_college(False) |            0.7217 |\n",
      "+-------------------+-------------------+\n",
      "| in_college(True)  |            0.2783 |\n",
      "+-------------------+-------------------+\n"
     ]
    }
   ],
   "source": [
    "q7 = inference.query(['in_college'], {'parent_age':'40-45' ,'average_grades':'75 - 85', 'residence':'Urban'})\n",
    "\n",
    "print('P(in_college | parent_age = 40-45, average_grades = 75 - 85, residence = Urban)')\n",
    "print(q7)"
   ]
  },
  {
   "cell_type": "markdown",
   "id": "8d3cd78b",
   "metadata": {},
   "source": [
    "#### Evidential"
   ]
  },
  {
   "cell_type": "code",
   "execution_count": 52,
   "id": "a4adeb90",
   "metadata": {},
   "outputs": [
    {
     "name": "stdout",
     "output_type": "stream",
     "text": [
      "P(residence | in_college = True)\n",
      "+------------------+------------------+\n",
      "| residence        |   phi(residence) |\n",
      "+==================+==================+\n",
      "| residence(Rural) |           0.4936 |\n",
      "+------------------+------------------+\n",
      "| residence(Urban) |           0.5064 |\n",
      "+------------------+------------------+\n"
     ]
    }
   ],
   "source": [
    "q8 = inference.query(['residence'],{'in_college':1})\n",
    "\n",
    "print('P(residence | in_college = True)')\n",
    "print(q8)"
   ]
  },
  {
   "cell_type": "code",
   "execution_count": 67,
   "id": "11f1c815",
   "metadata": {},
   "outputs": [
    {
     "name": "stdout",
     "output_type": "stream",
     "text": [
      "P(parent_salary | in_college = True)\n",
      "+----------------+---------------+\n",
      "| gender         |   phi(gender) |\n",
      "+================+===============+\n",
      "| gender(Female) |        0.5242 |\n",
      "+----------------+---------------+\n",
      "| gender(Male)   |        0.4758 |\n",
      "+----------------+---------------+\n"
     ]
    }
   ],
   "source": [
    "q9 = inference.query(['parent_salary'],{'in_college':1})\n",
    "\n",
    "print('P(parent_salary | in_college = True)')\n",
    "print(q9)"
   ]
  },
  {
   "cell_type": "code",
   "execution_count": 73,
   "id": "0cfd0a1a",
   "metadata": {},
   "outputs": [
    {
     "name": "stdout",
     "output_type": "stream",
     "text": [
      "P(average_grades, gender | in_college = True)\n",
      "+-------------------------+----------------+------------------------------+\n",
      "| average_grades          | gender         |   phi(average_grades,gender) |\n",
      "+=========================+================+==============================+\n",
      "| average_grades(75 - 85) | gender(Female) |                       0.1213 |\n",
      "+-------------------------+----------------+------------------------------+\n",
      "| average_grades(75 - 85) | gender(Male)   |                       0.1011 |\n",
      "+-------------------------+----------------+------------------------------+\n",
      "| average_grades(85 - 95) | gender(Female) |                       0.3968 |\n",
      "+-------------------------+----------------+------------------------------+\n",
      "| average_grades(85 - 95) | gender(Male)   |                       0.3686 |\n",
      "+-------------------------+----------------+------------------------------+\n",
      "| average_grades(95+)     | gender(Female) |                       0.0061 |\n",
      "+-------------------------+----------------+------------------------------+\n",
      "| average_grades(95+)     | gender(Male)   |                       0.0061 |\n",
      "+-------------------------+----------------+------------------------------+\n"
     ]
    }
   ],
   "source": [
    "q10 = inference.query(['average_grades', 'gender'],{'in_college':1})\n",
    "\n",
    "print('P(average_grades, gender | in_college = True)')\n",
    "print(q10)"
   ]
  },
  {
   "cell_type": "markdown",
   "id": "65a8a3b1",
   "metadata": {},
   "source": [
    "#### Intercausal"
   ]
  },
  {
   "cell_type": "code",
   "execution_count": 78,
   "id": "069c3853",
   "metadata": {},
   "outputs": [
    {
     "name": "stdout",
     "output_type": "stream",
     "text": [
      "P(average_grades | in_college = True, type_school = Vocational)\n",
      "+-------------------------+-----------------------+\n",
      "| average_grades          |   phi(average_grades) |\n",
      "+=========================+=======================+\n",
      "| average_grades(75 - 85) |                0.2913 |\n",
      "+-------------------------+-----------------------+\n",
      "| average_grades(85 - 95) |                0.6971 |\n",
      "+-------------------------+-----------------------+\n",
      "| average_grades(95+)     |                0.0116 |\n",
      "+-------------------------+-----------------------+\n"
     ]
    }
   ],
   "source": [
    "q11 = inference.query(['average_grades'],{'in_college':1, 'type_school':'Vocational'})\n",
    "\n",
    "print('P(average_grades | in_college = True, type_school = Vocational)')\n",
    "print(q11)"
   ]
  },
  {
   "cell_type": "code",
   "execution_count": 81,
   "id": "73e003d8",
   "metadata": {},
   "outputs": [
    {
     "name": "stdout",
     "output_type": "stream",
     "text": [
      "P(parent_was_in_college | in_college = False, average_grades = 95+)\n",
      "+------------------------------+------------------------------+\n",
      "| parent_was_in_college        |   phi(parent_was_in_college) |\n",
      "+==============================+==============================+\n",
      "| parent_was_in_college(False) |                       0.5949 |\n",
      "+------------------------------+------------------------------+\n",
      "| parent_was_in_college(True)  |                       0.4051 |\n",
      "+------------------------------+------------------------------+\n"
     ]
    }
   ],
   "source": [
    "q12 = inference.query(['parent_was_in_college'],{'in_college':0, 'average_grades':'95+'})\n",
    "\n",
    "print('P(parent_was_in_college | in_college = False, average_grades = 95+)')\n",
    "print(q12)"
   ]
  },
  {
   "cell_type": "code",
   "execution_count": 84,
   "id": "21f13b3d",
   "metadata": {},
   "outputs": [
    {
     "name": "stdout",
     "output_type": "stream",
     "text": [
      "P(parent_salary | in_college = False, average_grades = 95+)\n",
      "+-----------------------+----------------------+\n",
      "| parent_salary         |   phi(parent_salary) |\n",
      "+=======================+======================+\n",
      "| parent_salary(High)   |               0.0163 |\n",
      "+-----------------------+----------------------+\n",
      "| parent_salary(Low)    |               0.6505 |\n",
      "+-----------------------+----------------------+\n",
      "| parent_salary(Medium) |               0.3332 |\n",
      "+-----------------------+----------------------+\n"
     ]
    }
   ],
   "source": [
    "q13 = inference.query(['parent_salary'],{'in_college':0, 'average_grades':'85 - 95'})\n",
    "\n",
    "print('P(parent_salary | in_college = False, average_grades = 85 - 95)')\n",
    "print(q13)"
   ]
  },
  {
   "cell_type": "markdown",
   "id": "d4a0b1f2",
   "metadata": {},
   "source": [
    "### Approximate Inferences"
   ]
  },
  {
   "cell_type": "markdown",
   "id": "37147aa8",
   "metadata": {},
   "source": [
    "As the name suggests, the algorithm uses an approximation based on statistical sampling. The more samples, the closer is the estimated probability to the true one."
   ]
  },
  {
   "cell_type": "code",
   "execution_count": 115,
   "id": "62250d82",
   "metadata": {},
   "outputs": [],
   "source": [
    "from pgmpy.inference import ApproxInference\n",
    "\n",
    "inference = ApproxInference(model)\n",
    "\n",
    "n_samples = range(100, 1001, 100)  # the dataset has 1000 rows"
   ]
  },
  {
   "cell_type": "markdown",
   "id": "890d7d8f",
   "metadata": {},
   "source": [
    "#### Causal"
   ]
  },
  {
   "cell_type": "code",
   "execution_count": 116,
   "id": "e68b1a07",
   "metadata": {
    "scrolled": true
   },
   "outputs": [
    {
     "name": "stdout",
     "output_type": "stream",
     "text": [
      "P(in_college | type_school = Academic, parent_salary = High) and number of samples =  100\n",
      "+-------------------+-------------------+\n",
      "| in_college        |   phi(in_college) |\n",
      "+===================+===================+\n",
      "| in_college(False) |            0.2500 |\n",
      "+-------------------+-------------------+\n",
      "| in_college(True)  |            0.7500 |\n",
      "+-------------------+-------------------+\n",
      "\n",
      "\n",
      "P(in_college | type_school = Academic, parent_salary = High) and number of samples =  200\n",
      "+-------------------+-------------------+\n",
      "| in_college        |   phi(in_college) |\n",
      "+===================+===================+\n",
      "| in_college(False) |            0.2850 |\n",
      "+-------------------+-------------------+\n",
      "| in_college(True)  |            0.7150 |\n",
      "+-------------------+-------------------+\n",
      "\n",
      "\n",
      "P(in_college | type_school = Academic, parent_salary = High) and number of samples =  300\n",
      "+-------------------+-------------------+\n",
      "| in_college        |   phi(in_college) |\n",
      "+===================+===================+\n",
      "| in_college(False) |            0.2500 |\n",
      "+-------------------+-------------------+\n",
      "| in_college(True)  |            0.7500 |\n",
      "+-------------------+-------------------+\n",
      "\n",
      "\n",
      "P(in_college | type_school = Academic, parent_salary = High) and number of samples =  400\n",
      "+-------------------+-------------------+\n",
      "| in_college        |   phi(in_college) |\n",
      "+===================+===================+\n",
      "| in_college(False) |            0.2600 |\n",
      "+-------------------+-------------------+\n",
      "| in_college(True)  |            0.7400 |\n",
      "+-------------------+-------------------+\n",
      "\n",
      "\n",
      "P(in_college | type_school = Academic, parent_salary = High) and number of samples =  500\n",
      "+-------------------+-------------------+\n",
      "| in_college        |   phi(in_college) |\n",
      "+===================+===================+\n",
      "| in_college(False) |            0.2540 |\n",
      "+-------------------+-------------------+\n",
      "| in_college(True)  |            0.7460 |\n",
      "+-------------------+-------------------+\n",
      "\n",
      "\n",
      "P(in_college | type_school = Academic, parent_salary = High) and number of samples =  600\n",
      "+-------------------+-------------------+\n",
      "| in_college        |   phi(in_college) |\n",
      "+===================+===================+\n",
      "| in_college(False) |            0.2600 |\n",
      "+-------------------+-------------------+\n",
      "| in_college(True)  |            0.7400 |\n",
      "+-------------------+-------------------+\n",
      "\n",
      "\n",
      "P(in_college | type_school = Academic, parent_salary = High) and number of samples =  700\n",
      "+-------------------+-------------------+\n",
      "| in_college        |   phi(in_college) |\n",
      "+===================+===================+\n",
      "| in_college(False) |            0.2471 |\n",
      "+-------------------+-------------------+\n",
      "| in_college(True)  |            0.7529 |\n",
      "+-------------------+-------------------+\n",
      "\n",
      "\n",
      "P(in_college | type_school = Academic, parent_salary = High) and number of samples =  800\n",
      "+-------------------+-------------------+\n",
      "| in_college        |   phi(in_college) |\n",
      "+===================+===================+\n",
      "| in_college(False) |            0.2925 |\n",
      "+-------------------+-------------------+\n",
      "| in_college(True)  |            0.7075 |\n",
      "+-------------------+-------------------+\n",
      "\n",
      "\n",
      "P(in_college | type_school = Academic, parent_salary = High) and number of samples =  900\n",
      "+-------------------+-------------------+\n",
      "| in_college        |   phi(in_college) |\n",
      "+===================+===================+\n",
      "| in_college(False) |            0.2756 |\n",
      "+-------------------+-------------------+\n",
      "| in_college(True)  |            0.7244 |\n",
      "+-------------------+-------------------+\n",
      "\n",
      "\n",
      "P(in_college | type_school = Academic, parent_salary = High) and number of samples =  1000\n",
      "+-------------------+-------------------+\n",
      "| in_college        |   phi(in_college) |\n",
      "+===================+===================+\n",
      "| in_college(False) |            0.2650 |\n",
      "+-------------------+-------------------+\n",
      "| in_college(True)  |            0.7350 |\n",
      "+-------------------+-------------------+\n",
      "\n",
      "\n"
     ]
    }
   ],
   "source": [
    "for i in n_samples:\n",
    "\n",
    "    q1 = inference.query(['in_college'], i, {'type_school':'Academic', 'parent_salary':'High'}, show_progress=False)\n",
    "\n",
    "    print('P(in_college | type_school = Academic, parent_salary = High) and number of samples = ', i)\n",
    "    print(q1)\n",
    "    print('\\n')"
   ]
  },
  {
   "cell_type": "markdown",
   "id": "86eb8641",
   "metadata": {},
   "source": [
    "#### Evidential"
   ]
  },
  {
   "cell_type": "code",
   "execution_count": 118,
   "id": "a077d31e",
   "metadata": {
    "scrolled": true
   },
   "outputs": [
    {
     "name": "stdout",
     "output_type": "stream",
     "text": [
      "P(residence | in_college = True) and number of samples =  100\n",
      "+------------------+------------------+\n",
      "| residence        |   phi(residence) |\n",
      "+==================+==================+\n",
      "| residence(Rural) |           0.5800 |\n",
      "+------------------+------------------+\n",
      "| residence(Urban) |           0.4200 |\n",
      "+------------------+------------------+\n",
      "\n",
      "\n",
      "P(residence | in_college = True) and number of samples =  200\n",
      "+------------------+------------------+\n",
      "| residence        |   phi(residence) |\n",
      "+==================+==================+\n",
      "| residence(Rural) |           0.5000 |\n",
      "+------------------+------------------+\n",
      "| residence(Urban) |           0.5000 |\n",
      "+------------------+------------------+\n",
      "\n",
      "\n",
      "P(residence | in_college = True) and number of samples =  300\n",
      "+------------------+------------------+\n",
      "| residence        |   phi(residence) |\n",
      "+==================+==================+\n",
      "| residence(Rural) |           0.5033 |\n",
      "+------------------+------------------+\n",
      "| residence(Urban) |           0.4967 |\n",
      "+------------------+------------------+\n",
      "\n",
      "\n",
      "P(residence | in_college = True) and number of samples =  400\n",
      "+------------------+------------------+\n",
      "| residence        |   phi(residence) |\n",
      "+==================+==================+\n",
      "| residence(Rural) |           0.5075 |\n",
      "+------------------+------------------+\n",
      "| residence(Urban) |           0.4925 |\n",
      "+------------------+------------------+\n",
      "\n",
      "\n",
      "P(residence | in_college = True) and number of samples =  500\n",
      "+------------------+------------------+\n",
      "| residence        |   phi(residence) |\n",
      "+==================+==================+\n",
      "| residence(Rural) |           0.4960 |\n",
      "+------------------+------------------+\n",
      "| residence(Urban) |           0.5040 |\n",
      "+------------------+------------------+\n",
      "\n",
      "\n",
      "P(residence | in_college = True) and number of samples =  600\n",
      "+------------------+------------------+\n",
      "| residence        |   phi(residence) |\n",
      "+==================+==================+\n",
      "| residence(Rural) |           0.4917 |\n",
      "+------------------+------------------+\n",
      "| residence(Urban) |           0.5083 |\n",
      "+------------------+------------------+\n",
      "\n",
      "\n",
      "P(residence | in_college = True) and number of samples =  700\n",
      "+------------------+------------------+\n",
      "| residence        |   phi(residence) |\n",
      "+==================+==================+\n",
      "| residence(Rural) |           0.4629 |\n",
      "+------------------+------------------+\n",
      "| residence(Urban) |           0.5371 |\n",
      "+------------------+------------------+\n",
      "\n",
      "\n",
      "P(residence | in_college = True) and number of samples =  800\n",
      "+------------------+------------------+\n",
      "| residence        |   phi(residence) |\n",
      "+==================+==================+\n",
      "| residence(Rural) |           0.4775 |\n",
      "+------------------+------------------+\n",
      "| residence(Urban) |           0.5225 |\n",
      "+------------------+------------------+\n",
      "\n",
      "\n",
      "P(residence | in_college = True) and number of samples =  900\n",
      "+------------------+------------------+\n",
      "| residence        |   phi(residence) |\n",
      "+==================+==================+\n",
      "| residence(Rural) |           0.5156 |\n",
      "+------------------+------------------+\n",
      "| residence(Urban) |           0.4844 |\n",
      "+------------------+------------------+\n",
      "\n",
      "\n",
      "P(residence | in_college = True) and number of samples =  1000\n",
      "+------------------+------------------+\n",
      "| residence        |   phi(residence) |\n",
      "+==================+==================+\n",
      "| residence(Rural) |           0.4990 |\n",
      "+------------------+------------------+\n",
      "| residence(Urban) |           0.5010 |\n",
      "+------------------+------------------+\n",
      "\n",
      "\n"
     ]
    }
   ],
   "source": [
    "for i in n_samples:\n",
    "\n",
    "    q8 = inference.query(['residence'], i, {'in_college':1}, show_progress=False)\n",
    "\n",
    "    print('P(residence | in_college = True) and number of samples = ', i)\n",
    "    print(q8)\n",
    "    print('\\n')"
   ]
  },
  {
   "cell_type": "markdown",
   "id": "09551c78",
   "metadata": {},
   "source": [
    "#### Intercausal"
   ]
  },
  {
   "cell_type": "code",
   "execution_count": 120,
   "id": "93ca69c1",
   "metadata": {},
   "outputs": [
    {
     "name": "stdout",
     "output_type": "stream",
     "text": [
      "P(average_grades | in_college = True, type_school = Vocational)\n",
      "+-------------------------+-----------------------+\n",
      "| average_grades          |   phi(average_grades) |\n",
      "+=========================+=======================+\n",
      "| average_grades(75 - 85) |                0.2900 |\n",
      "+-------------------------+-----------------------+\n",
      "| average_grades(85 - 95) |                0.6900 |\n",
      "+-------------------------+-----------------------+\n",
      "| average_grades(95+)     |                0.0200 |\n",
      "+-------------------------+-----------------------+\n",
      "\n",
      "\n",
      "P(average_grades | in_college = True, type_school = Vocational)\n",
      "+-------------------------+-----------------------+\n",
      "| average_grades          |   phi(average_grades) |\n",
      "+=========================+=======================+\n",
      "| average_grades(75 - 85) |                0.2950 |\n",
      "+-------------------------+-----------------------+\n",
      "| average_grades(85 - 95) |                0.6850 |\n",
      "+-------------------------+-----------------------+\n",
      "| average_grades(95+)     |                0.0200 |\n",
      "+-------------------------+-----------------------+\n",
      "\n",
      "\n",
      "P(average_grades | in_college = True, type_school = Vocational)\n",
      "+-------------------------+-----------------------+\n",
      "| average_grades          |   phi(average_grades) |\n",
      "+=========================+=======================+\n",
      "| average_grades(75 - 85) |                0.2833 |\n",
      "+-------------------------+-----------------------+\n",
      "| average_grades(85 - 95) |                0.7033 |\n",
      "+-------------------------+-----------------------+\n",
      "| average_grades(95+)     |                0.0133 |\n",
      "+-------------------------+-----------------------+\n",
      "\n",
      "\n",
      "P(average_grades | in_college = True, type_school = Vocational)\n",
      "+-------------------------+-----------------------+\n",
      "| average_grades          |   phi(average_grades) |\n",
      "+=========================+=======================+\n",
      "| average_grades(75 - 85) |                0.2925 |\n",
      "+-------------------------+-----------------------+\n",
      "| average_grades(85 - 95) |                0.6975 |\n",
      "+-------------------------+-----------------------+\n",
      "| average_grades(95+)     |                0.0100 |\n",
      "+-------------------------+-----------------------+\n",
      "\n",
      "\n",
      "P(average_grades | in_college = True, type_school = Vocational)\n",
      "+-------------------------+-----------------------+\n",
      "| average_grades          |   phi(average_grades) |\n",
      "+=========================+=======================+\n",
      "| average_grades(75 - 85) |                0.2820 |\n",
      "+-------------------------+-----------------------+\n",
      "| average_grades(85 - 95) |                0.7000 |\n",
      "+-------------------------+-----------------------+\n",
      "| average_grades(95+)     |                0.0180 |\n",
      "+-------------------------+-----------------------+\n",
      "\n",
      "\n",
      "P(average_grades | in_college = True, type_school = Vocational)\n",
      "+-------------------------+-----------------------+\n",
      "| average_grades          |   phi(average_grades) |\n",
      "+=========================+=======================+\n",
      "| average_grades(75 - 85) |                0.2783 |\n",
      "+-------------------------+-----------------------+\n",
      "| average_grades(85 - 95) |                0.7050 |\n",
      "+-------------------------+-----------------------+\n",
      "| average_grades(95+)     |                0.0167 |\n",
      "+-------------------------+-----------------------+\n",
      "\n",
      "\n",
      "P(average_grades | in_college = True, type_school = Vocational)\n",
      "+-------------------------+-----------------------+\n",
      "| average_grades          |   phi(average_grades) |\n",
      "+=========================+=======================+\n",
      "| average_grades(75 - 85) |                0.3171 |\n",
      "+-------------------------+-----------------------+\n",
      "| average_grades(85 - 95) |                0.6786 |\n",
      "+-------------------------+-----------------------+\n",
      "| average_grades(95+)     |                0.0043 |\n",
      "+-------------------------+-----------------------+\n",
      "\n",
      "\n",
      "P(average_grades | in_college = True, type_school = Vocational)\n",
      "+-------------------------+-----------------------+\n",
      "| average_grades          |   phi(average_grades) |\n",
      "+=========================+=======================+\n",
      "| average_grades(75 - 85) |                0.2687 |\n",
      "+-------------------------+-----------------------+\n",
      "| average_grades(85 - 95) |                0.7188 |\n",
      "+-------------------------+-----------------------+\n",
      "| average_grades(95+)     |                0.0125 |\n",
      "+-------------------------+-----------------------+\n",
      "\n",
      "\n",
      "P(average_grades | in_college = True, type_school = Vocational)\n",
      "+-------------------------+-----------------------+\n",
      "| average_grades          |   phi(average_grades) |\n",
      "+=========================+=======================+\n",
      "| average_grades(75 - 85) |                0.3033 |\n",
      "+-------------------------+-----------------------+\n",
      "| average_grades(85 - 95) |                0.6889 |\n",
      "+-------------------------+-----------------------+\n",
      "| average_grades(95+)     |                0.0078 |\n",
      "+-------------------------+-----------------------+\n",
      "\n",
      "\n",
      "P(average_grades | in_college = True, type_school = Vocational)\n",
      "+-------------------------+-----------------------+\n",
      "| average_grades          |   phi(average_grades) |\n",
      "+=========================+=======================+\n",
      "| average_grades(75 - 85) |                0.3020 |\n",
      "+-------------------------+-----------------------+\n",
      "| average_grades(85 - 95) |                0.6860 |\n",
      "+-------------------------+-----------------------+\n",
      "| average_grades(95+)     |                0.0120 |\n",
      "+-------------------------+-----------------------+\n",
      "\n",
      "\n"
     ]
    }
   ],
   "source": [
    "for i in n_samples:\n",
    "\n",
    "    q11 = inference.query(['average_grades'], i, {'in_college':1, 'type_school':'Vocational'}, show_progress=False)\n",
    "\n",
    "    print('P(average_grades | in_college = True, type_school = Vocational) and number of samples = ', i)\n",
    "    print(q11)\n",
    "    print('\\n')"
   ]
  }
 ],
 "metadata": {
  "kernelspec": {
   "display_name": "Python 3 (ipykernel)",
   "language": "python",
   "name": "python3"
  },
  "language_info": {
   "codemirror_mode": {
    "name": "ipython",
    "version": 3
   },
   "file_extension": ".py",
   "mimetype": "text/x-python",
   "name": "python",
   "nbconvert_exporter": "python",
   "pygments_lexer": "ipython3",
   "version": "3.9.6"
  }
 },
 "nbformat": 4,
 "nbformat_minor": 5
}
